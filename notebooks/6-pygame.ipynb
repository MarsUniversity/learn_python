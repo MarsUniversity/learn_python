{
 "cells": [
  {
   "cell_type": "markdown",
   "id": "fdfdab0f-6b50-4789-8d98-ef066f5cf08d",
   "metadata": {},
   "source": [
    "![](pics/asteroids-header.jpg)\n",
    "# PyGame: Asteriods\n",
    "\n",
    "Here we are going to start building the classic game asteriods.\n",
    "\n",
    "![](pics/arcade-screenshot.jpg)\n",
    "\n",
    "> **REMEMBER:** When you are programming, google can help you a lot. When you need help with something in pygame, just google `pygame something_you_need` and you should be able to find it.\n",
    "\n",
    "## Projects\n",
    "\n",
    "- Project 1:\n",
    "    - learn how to work with `pygame` and play sounds, print strings and handle key presses\n",
    "- Project 2:\n",
    "    - learn how to create an `Asteroid` that moves around the screen\n",
    "- Project 3:\n",
    "    - learn how to create a `Player` spaceship that can move around the screen and fire a `Bullet`\n",
    "- Project 4:\n",
    "    - learn now to detect collisions between the `Player`, `Asteroid` and `Bullet` objects\n",
    "\n",
    "## References\n",
    "\n",
    "- Classic Gamming:[Asteroids](http://www.classicgaming.cc/classics/asteroids/)\n",
    "- [PyGame and Physics](https://www.petercollingridge.co.uk/tutorials/pygame-physics-simulation/) tutorials"
   ]
  },
  {
   "cell_type": "code",
   "execution_count": 15,
   "id": "01f34f78-7765-4d99-a990-674d8d8e499d",
   "metadata": {},
   "outputs": [],
   "source": [
    "import pygame\n",
    "from matplotlib import pyplot as plt\n",
    "import numpy as np"
   ]
  },
  {
   "cell_type": "markdown",
   "id": "a5a0cdf5-344e-4f7a-be0a-6781409f7f53",
   "metadata": {},
   "source": [
    "## Create a Window\n",
    "\n",
    "This will create a simple window with a white background and run until you close the window. When close the window, the variable `running` becomes `False` and the loop exits, which then exits the program.\n",
    "\n",
    "```python\n",
    "import pygame\n",
    "\n",
    "# initialize pygame, this should be called before\n",
    "# other pygame functions\n",
    "pygame.init()\n",
    "\n",
    "background_color = (255,255,255) # white\n",
    "background_color = \"white\" # same as above\n",
    "(width, height) = (300, 200)\n",
    "\n",
    "# create a blank window\n",
    "screen = pygame.display.set_mode((width, height))\n",
    "screen.fill(background_color)\n",
    "\n",
    "pygame.display.set_caption(\"Hello\")\n",
    "pygame.display.flip()\n",
    "\n",
    "running = True\n",
    "while running:\n",
    "  for event in pygame.event.get():\n",
    "    if event.type == pygame.QUIT:\n",
    "      running = False\n",
    "```\n",
    "\n",
    "> You **cannot** run `pygame` inside a Jupyter notebook. You **must** run this stuff from the CLI like we talked about earlier."
   ]
  },
  {
   "cell_type": "markdown",
   "id": "6393dfbd-fcb9-48ae-b87a-35dbe17829f8",
   "metadata": {},
   "source": [
    "## Game Loop\n",
    "\n",
    "When you play a game, it flows a common flow:\n",
    "\n",
    "![](pics/game-loop.webp)\n",
    "\n",
    "- Game Setup: this is where you create the player, the world the player will play in, load sound files, etc\n",
    "- Handle player input: For this game, it will be keyboard presses, but could also be joystick inputs too\n",
    "- Update game objects: this is everything you need to update each frame (when the game is rendered to the scren) such as player movements, non-player movements, anything in the world, etc\n",
    "- Draw to the screen: also known as *rendering*, takes the updated game objects (player, asteroids, bullets, etc) and draws them in their updated locations\n",
    "- Clean up game: when the game is over, unload anything in memory that was loaded in the Game Setup phase. For this game, there really isn't anything to this"
   ]
  },
  {
   "cell_type": "markdown",
   "id": "0169db96-7db9-450d-80ce-be2e84a154d3",
   "metadata": {},
   "source": [
    "## Text\n",
    "\n",
    "```python\n",
    "import pygame\n",
    "\n",
    "name = \"kevin\"\n",
    "font = pygame.font.SysFont(\"Monaco\",20)\n",
    "text_surface = font.render(\n",
    "    f\"hello ... {name}\",\n",
    "    True,   # anti-alias\n",
    "    \"white\" # text color\n",
    ")\n",
    "text_rect = text_surface.get_rect()\n",
    "text_rect.center = rect.center\n",
    "surface.blit(text_surface, text_rect)\n",
    "```"
   ]
  },
  {
   "cell_type": "markdown",
   "id": "925db9bd-af6d-44f0-b6f8-4549f1c8e7da",
   "metadata": {},
   "source": [
    "## Sounds\n",
    "\n",
    "```python\n",
    "import pygame\n",
    "import os\n",
    "\n",
    "# setup sound BEFORE initializing pygame\n",
    "pygame.mixer.pre_init(44100, -16, 1, 512)\n",
    "pygame.init()\n",
    "```\n",
    "\n",
    "Now you need to load a sound file (like `wav`, `ogg`, `mp3`, etc) and play the sound like this:\n",
    "\n",
    "```python\n",
    "fire_sound = pygame.mixer.Sound(os.path.join(\"Sounds\", \"fire.wav\"))\n",
    "fire_sound.play()\n",
    "```"
   ]
  },
  {
   "cell_type": "code",
   "execution_count": 50,
   "id": "3f23741e-a4c4-40f5-be51-ebd8039e5687",
   "metadata": {},
   "outputs": [
    {
     "name": "stdout",
     "output_type": "stream",
     "text": [
      "Help on built-in function pre_init in module pygame.mixer:\n",
      "\n",
      "pre_init(...)\n",
      "    pre_init(frequency=44100, size=-16, channels=2, buffer=512, devicename=None, allowedchanges=AUDIO_ALLOW_FREQUENCY_CHANGE | AUDIO_ALLOW_CHANNELS_CHANGE) -> None\n",
      "    preset the mixer init arguments\n",
      "\n"
     ]
    }
   ],
   "source": [
    "help(pygame.mixer.pre_init)"
   ]
  },
  {
   "cell_type": "markdown",
   "id": "5777ab63-77ba-462a-bad3-8706bc0855c7",
   "metadata": {},
   "source": [
    "Now looking at the above `help` for `pre_init`:\n",
    "\n",
    "- `frequency`: 44100 Hz or 44.1kHZ is typical for music or audio content\n",
    "- `size`: 16bit audio is also common\n",
    "- `channel`: 2 channels (stereo) is common, but we are using old single channel mono to make it sound more like the 1980's\n",
    "- `buffer`: buffer is just how much audio to store and helps playback. The larger this number, the more computer memory is used to store audio. All of the sounds used in the game are really small, so this isn't a big deal"
   ]
  },
  {
   "cell_type": "markdown",
   "id": "db76fd8c-847e-4c39-8f8f-e01fa2198411",
   "metadata": {},
   "source": [
    "## Events\n",
    "\n",
    "`pygame` uses a event system for various things.  We will check for events that are keyboard presses and use a timed callback to a user event to create random asteroids. There is more information about `pygame.event` [here](https://www.pygame.org/docs/ref/event.html) on the documentation website."
   ]
  },
  {
   "cell_type": "markdown",
   "id": "e533cb1a-04a7-48cf-a04d-de0f9f12c036",
   "metadata": {},
   "source": [
    "## Key Presses\n",
    "\n",
    "Google `pygame keys` and you should see a link for `pygame.key` which has the name for every key:\n",
    "\n",
    "```\n",
    "pygame\n",
    "Constant      ASCII   Description\n",
    "---------------------------------\n",
    "K_BACKSPACE   \\b      backspace\n",
    "K_TAB         \\t      tab\n",
    "K_CLEAR               clear\n",
    "K_RETURN      \\r      return\n",
    "K_PAUSE               pause\n",
    "K_ESCAPE      ^[      escape\n",
    "K_SPACE               space\n",
    "K_EXCLAIM     !       exclaim\n",
    "...\n",
    "```\n",
    "\n",
    "When you check for key presses, you do something like this:\n",
    "\n",
    "```python\n",
    "if event.type == pygame.KEYDOWN:\n",
    "    if event.key == pygame.K_s: # player pressed 's' key\n",
    "        # do somthing\n",
    "    elif event.key == pygame.K_q: # player pressed 'q' key\n",
    "        # do something\n",
    "    ...\n",
    "elif event.type == pygame.KEYUP:\n",
    "    ...\n",
    "```\n",
    "\n"
   ]
  },
  {
   "cell_type": "markdown",
   "id": "b9e3fd06-ad4b-4c23-af52-0430f231eb24",
   "metadata": {},
   "source": [
    "## User Events"
   ]
  },
  {
   "cell_type": "code",
   "execution_count": 52,
   "id": "309de40a-7167-4232-8760-6278bc2ac881",
   "metadata": {},
   "outputs": [
    {
     "name": "stdout",
     "output_type": "stream",
     "text": [
      "pygame.USEREVENT: <class 'int'> 32866\n"
     ]
    }
   ],
   "source": [
    "import pygame\n",
    "\n",
    "print(f\"pygame.USEREVENT: {type(pygame.USEREVENT)} {pygame.USEREVENT}\")"
   ]
  },
  {
   "cell_type": "markdown",
   "id": "59954f0b-8774-46dd-bb3d-c3a3b7132a0f",
   "metadata": {},
   "source": [
    "## `pygame.Rect`\n",
    "\n",
    "Rectagles are used a lot for a variety of things in a game. We are mainly going to use them to keep track of the screen but you could do more."
   ]
  },
  {
   "cell_type": "code",
   "execution_count": 44,
   "id": "fe9ab24e-f529-4122-b338-62f639833adf",
   "metadata": {},
   "outputs": [
    {
     "name": "stdout",
     "output_type": "stream",
     "text": [
      "Rect(left, top, width, height) -> Rect\n",
      "Rect((left, top), (width, height)) -> Rect\n",
      "Rect(object) -> Rect\n",
      "pygame object for storing rectangular coordinates\n"
     ]
    }
   ],
   "source": [
    "print(pygame.Rect.__doc__)"
   ]
  },
  {
   "cell_type": "code",
   "execution_count": 47,
   "id": "cbda5148-48cd-42a8-a8af-7faef75354e7",
   "metadata": {},
   "outputs": [
    {
     "name": "stdout",
     "output_type": "stream",
     "text": [
      "<rect(0, 0, 10, 20)>\n",
      "rect: 0 0 10 20\n",
      "center: (5, 10)  type: <class 'tuple'>\n",
      "size: (10, 20)\n"
     ]
    }
   ],
   "source": [
    "r = pygame.Rect(0,0,10,20)\n",
    "print(r)\n",
    "print(f\"rect: {r.x} {r.y} {r.w} {r.height}\")\n",
    "print(f\"center: {r.center}  type: {type(r.center)}\")\n",
    "print(f\"size: {r.size}\")"
   ]
  },
  {
   "cell_type": "code",
   "execution_count": 31,
   "id": "9e2d4382-3d1d-4032-b165-e101741806b5",
   "metadata": {},
   "outputs": [
    {
     "data": {
      "image/png": "[encoded data removed]",
      "text/plain": [
       "<Figure size 640x480 with 1 Axes>"
      ]
     },
     "metadata": {},
     "output_type": "display_data"
    }
   ],
   "source": [
    "def draw(rects):\n",
    "    for r in rects:\n",
    "        pts = np.array([\n",
    "            (r.x,r.y),\n",
    "            (r.x+r.w,r.y),\n",
    "            (r.x+r.w,r.y+r.h),\n",
    "            (r.x,r.y+r.h),\n",
    "            (r.x,r.y),\n",
    "        ])\n",
    "        plt.plot(pts[:,0], pts[:,1])\n",
    "\n",
    "world = [\n",
    "    pygame.Rect(10,10,10,10),\n",
    "    pygame.Rect(7.5,15,10,10),\n",
    "    pygame.Rect(4,4,5,10),\n",
    "]\n",
    "draw(world)"
   ]
  },
  {
   "cell_type": "code",
   "execution_count": 40,
   "id": "d2b84eee-9620-4b2f-9fa0-60607428a656",
   "metadata": {},
   "outputs": [
    {
     "name": "stdout",
     "output_type": "stream",
     "text": [
      "[0, 1]\n",
      "[0, 1]\n",
      "[2]\n"
     ]
    }
   ],
   "source": [
    "for r in world:\n",
    "    hit = r.collidelistall(world)\n",
    "    if hit:\n",
    "        print(hit)"
   ]
  },
  {
   "cell_type": "code",
   "execution_count": 32,
   "id": "28317e7a-7f9f-48c4-b49b-3f8ff7660c7d",
   "metadata": {},
   "outputs": [
    {
     "name": "stdout",
     "output_type": "stream",
     "text": [
      "Help on built-in function collidelistall:\n",
      "\n",
      "collidelistall(...) method of pygame.rect.Rect instance\n",
      "    collidelistall(list) -> indices\n",
      "    test if all rectangles in a list intersect\n",
      "\n"
     ]
    }
   ],
   "source": [
    "help(r.collidelistall)"
   ]
  },
  {
   "cell_type": "code",
   "execution_count": 36,
   "id": "44eed747-40f9-401d-adff-c4c2996c36e8",
   "metadata": {
    "scrolled": true
   },
   "outputs": [
    {
     "name": "stdout",
     "output_type": "stream",
     "text": [
      "Help on built-in function collideobjectsall:\n",
      "\n",
      "collideobjectsall(...) method of pygame.rect.Rect instance\n",
      "    collideobjectsall(rect_list) -> objects\n",
      "    collideobjectsall(obj_list, key=func) -> objects\n",
      "    test if all objects in a list intersect\n",
      "\n"
     ]
    }
   ],
   "source": [
    "help(r.collideobjectsall)"
   ]
  },
  {
   "cell_type": "code",
   "execution_count": null,
   "id": "5a5d83f7-406b-4268-bb0a-c07195d12d49",
   "metadata": {},
   "outputs": [],
   "source": []
  }
 ],
 "metadata": {
  "kernelspec": {
   "display_name": "Python 3 (ipykernel)",
   "language": "python",
   "name": "python3"
  },
  "language_info": {
   "codemirror_mode": {
    "name": "ipython",
    "version": 3
   },
   "file_extension": ".py",
   "mimetype": "text/x-python",
   "name": "python",
   "nbconvert_exporter": "python",
   "pygments_lexer": "ipython3",
   "version": "3.13.0"
  }
 },
 "nbformat": 4,
 "nbformat_minor": 5
}
