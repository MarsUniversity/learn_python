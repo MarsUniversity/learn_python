{
 "cells": [
  {
   "cell_type": "markdown",
   "id": "4ee94d6e-4485-4fd1-88f3-0a6dc00cf8bf",
   "metadata": {},
   "source": [
    "![](./pics/asteroids-header.jpg)\n",
    "\n",
    "# Collision\n",
    "\n",
    "The easiest way to determine if 2 objects in a game have collided is to encase them in a circle and calculate if the two circles touch.\n",
    "\n",
    "<img src=\"pics/circ-not-collid.webp\" width=\"50%\">\n",
    "<img src=\"pics/circ-collid.webp\" width=\"50%\">\n",
    "\n",
    "Now to calculate if 2 circles collide, we can use the Pathagoras' Theorem. If we use the points A and B to represent the center of object A (objA) and the center of object B (objB) in the diagram below, then the distance between them is $\\sqrt {dx^2 + dy^2}$.\n",
    "\n",
    "<img src=\"pics/line-segment.png\" width=\"50%\">\n",
    "\n",
    "- for each object:\n",
    "    - calculate the distance between circle A and circle B\n",
    "        - $dx = x_{A} - x_{B}$\n",
    "        - $dy = y_{A} - y_{B}$\n",
    "        - $distance = \\sqrt {dx^2 + dy^2}$\n",
    "    - Now test:\n",
    "        - **Collision:** $distance \\leq radius_A + radius_B$\n",
    "        - **No Collision:** $distance > radius_A + radius_B$\n",
    " \n",
    "> **CHEAT:** Now the square root is *mathematically expensive* (or takes a long time to calculate), so it is faster to do: $distance^2 = dx^2 + dy^2$ and compare that to $(radius_A + radius_B)^2$ to determine collision."
   ]
  },
  {
   "cell_type": "code",
   "execution_count": 2,
   "id": "2149847c-9b00-4304-b582-aa43154cfe54",
   "metadata": {},
   "outputs": [],
   "source": [
    "import pygame\n",
    "from matplotlib import pyplot as plt\n",
    "from matplotlib.patches import Circle"
   ]
  },
  {
   "cell_type": "code",
   "execution_count": 26,
   "id": "12233585-58ed-44ca-a6e3-cafb3fdcc6df",
   "metadata": {},
   "outputs": [
    {
     "name": "stdout",
     "output_type": "stream",
     "text": [
      "radisu: 4.0 distance: 8\n",
      "no collision\n"
     ]
    },
    {
     "data": {
      "image/png": "[encoded data removed]",
      "text/plain": [
       "<Figure size 640x480 with 1 Axes>"
      ]
     },
     "metadata": {},
     "output_type": "display_data"
    }
   ],
   "source": [
    "# change the center and radius of the circles\n",
    "# to test collion between two objects\n",
    "A = Circle((5,5), 1, facecolor=\"red\")\n",
    "B = Circle((3,3), 1)\n",
    "\n",
    "fig, ax = plt.subplots()\n",
    "ax.add_patch(A)\n",
    "ax.add_patch(B)\n",
    "ax.set_aspect('equal')\n",
    "\n",
    "ax.set_xlim(0, 10.0)\n",
    "ax.set_ylim(0, 10.0)\n",
    "\n",
    "xa,ya = A.center\n",
    "ra = A.radius\n",
    "xb,yb = B.center\n",
    "rb = B.radius\n",
    "\n",
    "dist = (xa-xb)**2 + (ya-yb)**2\n",
    "r = (ra + rb)**2\n",
    "\n",
    "print(f\"radisu: {r} distance: {dist}\")\n",
    "if dist <= r: print(\"collision\")\n",
    "elif dist > r: print(\"no collision\")\n",
    "else: print(\"error\")"
   ]
  },
  {
   "cell_type": "markdown",
   "id": "87c2ca7b-9fa0-4d77-99c8-82bf892353fe",
   "metadata": {},
   "source": [
    "## All Game Object Collision\n",
    "\n",
    "We need to keep track of every object in the game and at each time step (dt), check to see if any objects bumps into each other.\n",
    " \n",
    "| a | b | Status | Why\n",
    "|---|---|---|---|\n",
    "| Player | Asteroid | ok | Detect if player destroyed\n",
    "| Bullet | Asteroid | ok | Detect if asteroid destroyed\n",
    "| Asteroid | anything | bad | Ignore, only concerned about Player and Bullets\n",
    "| Asteroid | Asteroid | bad | Asteroids do not destroy each other\n",
    "| Player | Bullet | bad | Player cannot be destroyed by bullet\n",
    "| Bullet | Player | bad | Bullets cannot be destroyed by Player\n",
    " \n",
    "```python\n",
    "world = [] # keep everything in a simple list\n",
    "world.append(obj) # fill the world with objects\n",
    " \n",
    "for a in world:\n",
    "    if isinstance(a, Asteroid): continue\n",
    "    for b in world:\n",
    "        if a == b: continue\n",
    "        if not isinstance(b, Asteroid): continue\n",
    "        ok = collide(a, b)\n",
    "        if ok: continue\n",
    "        if not isinstance(a, Player): a.is_dead = True\n",
    "        b.is_dead = True\n",
    "        if b.size > 10: world.append(Asteroid(a.x, a.y, size-10)\n",
    " \n",
    "# clean up dead objects\n",
    "world = filter(lambda item: item if not item.is_dead else None , world) # ???\n",
    "world = [item for item in world if not item.is_dead]\n",
    "```"
   ]
  },
  {
   "cell_type": "code",
   "execution_count": null,
   "id": "e14cf60e-739f-4f84-9ed9-4153e3625bcd",
   "metadata": {},
   "outputs": [],
   "source": []
  }
 ],
 "metadata": {
  "kernelspec": {
   "display_name": "Python 3 (ipykernel)",
   "language": "python",
   "name": "python3"
  },
  "language_info": {
   "codemirror_mode": {
    "name": "ipython",
    "version": 3
   },
   "file_extension": ".py",
   "mimetype": "text/x-python",
   "name": "python",
   "nbconvert_exporter": "python",
   "pygments_lexer": "ipython3",
   "version": "3.11.6"
  }
 },
 "nbformat": 4,
 "nbformat_minor": 5
}
