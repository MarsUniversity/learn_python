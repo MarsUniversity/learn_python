{
 "cells": [
  {
   "cell_type": "markdown",
   "metadata": {},
   "source": [
    "# 1. Basic Python\n",
    "\n",
    "Kevin J. Walchko\n",
    "\n",
    "----\n",
    "\n",
    "Here we will use `python` as our programming language. Python, like any other language, is really vast and complex. We will just cover the basic syntax we need first.\n",
    "\n",
    "> **REMEMBER:** When you are programming in `python`, google can help you. If you don't know how to do something, say how to write a `for` loop, just go to google and type `python for loop example` and one of the links should be able to help you\n",
    "\n",
    "## Objectives\n",
    "\n",
    "- Understand general python syntax\n",
    "\n",
    "## References\n",
    "\n",
    "- [Automate the Boring Stuff with Python](https://automatetheboringstuff.com)\n",
    "    - Read: Chapter 1 Python Basics"
   ]
  },
  {
   "cell_type": "markdown",
   "metadata": {},
   "source": [
    "# How Does Python Work\n",
    "\n",
    "Python is a programming language and there are many ways to run a python program. We will use 2 ways:\n",
    "\n",
    "1. CLI\n",
    "2. Jupyter Notebooks (what you are using now)\n",
    "\n",
    "## Command Line Interface (CLI)\n",
    "\n",
    "The CLI or also called interactive shell or REPL (Read-Evaluate-Print Loop) looks like this:\n",
    "\n",
    "```\n",
    "Python 3.11.6 (main, Oct  2 2023, 20:14:46) [Clang 14.0.0 (clang-1400.0.29.202)] on darwin\n",
    "Type \"help\", \"copyright\", \"credits\" or \"license\" for more information.\n",
    ">>> 2+2\n",
    "4\n",
    ">>>\n",
    "```\n",
    "\n",
    "where `>>>` is where you can enter python commands and the result is printed\n",
    "to the next line.\n",
    "\n",
    "## Scripts\n",
    "\n",
    "Now doing everthing on the CLI interactively isn't always useful, so we instead\n",
    "write all the commands we want to use into a file like `my_program.py` and\n",
    "run (or execute) that file as a program.\n",
    "\n",
    "1. Call python program via the python interpreter: `python my_program.py`\n",
    "    - This is kind of the stupid way\n",
    "1. Make a python file executable \n",
    "    - Add a shebang (it’s a Unix thing) to the top of your program: `#!/usr/bin/env python`\n",
    "    - Make the file executable: `chmod a+x my_program.py`\n",
    "    - Run the file from command line: `./my_program.py`\n",
    "\n",
    "```python\n",
    "#!/usr/bin/env python3\n",
    "\n",
    "print(\"Hello!\")\n",
    "\n",
    "# this is a comment\n",
    "\n",
    "# this is assignment\n",
    "bob = 25 # bob is set to 25\n",
    "tom = bob * 2 # tom is equal to 50\n",
    "```"
   ]
  },
  {
   "cell_type": "markdown",
   "metadata": {},
   "source": [
    "## Variables\n",
    "\n",
    "Variables hold a value.\n",
    "\n",
    "| Valid variable names | Invalid variable names |\n",
    "|----------------------|------------------------|\n",
    "current_balance        | current-balance (hyphens are not allowed, looks like subtraction)\n",
    "currentBalance         | current balance (spaces are not allowed)\n",
    "account4               | 4account (can’t begin with a number)\n",
    "_42                    | 42 (must begin with a letter or `_`)\n",
    "TOTAL_SUM              | `TOTAL_$UM` (special characters like $ are not allowed)\n",
    "hello                  | 'hello' (special characters like ' are not allowed)\n",
    "\n",
    "Common methods for defining\n",
    "\n",
    "- Camel Case: `myVariableName`\n",
    "- Snake Case: `my_variable_name`"
   ]
  },
  {
   "cell_type": "code",
   "execution_count": 61,
   "metadata": {},
   "outputs": [
    {
     "ename": "SyntaxError",
     "evalue": "invalid syntax (306270164.py, line 1)",
     "output_type": "error",
     "traceback": [
      "\u001b[0;36m  Cell \u001b[0;32mIn[61], line 1\u001b[0;36m\u001b[0m\n\u001b[0;31m    $d = 4\u001b[0m\n\u001b[0m    ^\u001b[0m\n\u001b[0;31mSyntaxError\u001b[0m\u001b[0;31m:\u001b[0m invalid syntax\n"
     ]
    }
   ],
   "source": [
    "$d = 4"
   ]
  },
  {
   "cell_type": "code",
   "execution_count": 82,
   "metadata": {},
   "outputs": [
    {
     "name": "stdout",
     "output_type": "stream",
     "text": [
      "z = 2.5\n"
     ]
    }
   ],
   "source": [
    "# variable can be anything (int, float, bool, etc) and\n",
    "# can change to anything. Here, z, will change to different\n",
    "# types and that is ok, but YOU need to know what they are\n",
    "\n",
    "# bool (True or False)\n",
    "z = True\n",
    "\n",
    "# integers (whole numbers)\n",
    "z = 3\n",
    "\n",
    "# floats (fractional numbers)\n",
    "z = 3.124\n",
    "z = 5/2\n",
    "\n",
    "print('z =', z)"
   ]
  },
  {
   "cell_type": "markdown",
   "metadata": {},
   "source": [
    "## Basic Math"
   ]
  },
  {
   "cell_type": "code",
   "execution_count": 44,
   "metadata": {},
   "outputs": [
    {
     "data": {
      "text/plain": [
       "20"
      ]
     },
     "execution_count": 44,
     "metadata": {},
     "output_type": "execute_result"
    }
   ],
   "source": [
    "2 + 3 * 6"
   ]
  },
  {
   "cell_type": "code",
   "execution_count": 45,
   "metadata": {},
   "outputs": [
    {
     "data": {
      "text/plain": [
       "16.0"
      ]
     },
     "execution_count": 45,
     "metadata": {},
     "output_type": "execute_result"
    }
   ],
   "source": [
    "(5 - 1) * ((7 + 1) / (3 - 1))"
   ]
  },
  {
   "cell_type": "code",
   "execution_count": 46,
   "metadata": {},
   "outputs": [
    {
     "data": {
      "text/plain": [
       "256"
      ]
     },
     "execution_count": 46,
     "metadata": {},
     "output_type": "execute_result"
    }
   ],
   "source": [
    "2 ** 8  # 2 raised to the power of 8"
   ]
  },
  {
   "cell_type": "code",
   "execution_count": 47,
   "metadata": {},
   "outputs": [
    {
     "data": {
      "text/plain": [
       "1"
      ]
     },
     "execution_count": 47,
     "metadata": {},
     "output_type": "execute_result"
    }
   ],
   "source": [
    "5 % 2  # 2/5 gives a remainder of 1"
   ]
  },
  {
   "cell_type": "code",
   "execution_count": 59,
   "metadata": {},
   "outputs": [
    {
     "data": {
      "text/plain": [
       "2.5"
      ]
     },
     "execution_count": 59,
     "metadata": {},
     "output_type": "execute_result"
    }
   ],
   "source": [
    "# floating point (fractional) division\n",
    "10/4"
   ]
  },
  {
   "cell_type": "code",
   "execution_count": 60,
   "metadata": {},
   "outputs": [
    {
     "data": {
      "text/plain": [
       "2"
      ]
     },
     "execution_count": 60,
     "metadata": {},
     "output_type": "execute_result"
    }
   ],
   "source": [
    "# integer (whole numbers) division\n",
    "10//4"
   ]
  },
  {
   "cell_type": "markdown",
   "metadata": {},
   "source": [
    "## Strings\n",
    "\n",
    "Strings are a list of characters (`a-z`,`A-Z`,`0-9`, basically anything on your keyboard) using either `'` or `\"` like this:\n",
    "\n",
    "```python\n",
    "'this is a string'\n",
    "\"this is also a string\"\n",
    "```"
   ]
  },
  {
   "cell_type": "code",
   "execution_count": 51,
   "metadata": {},
   "outputs": [
    {
     "data": {
      "text/plain": [
       "'this is also good \"bob\"'"
      ]
     },
     "execution_count": 51,
     "metadata": {},
     "output_type": "execute_result"
    }
   ],
   "source": [
    "\"string\"\n",
    "'this is also good \"bob\"'"
   ]
  },
  {
   "cell_type": "code",
   "execution_count": 52,
   "metadata": {},
   "outputs": [
    {
     "ename": "SyntaxError",
     "evalue": "invalid syntax (163217746.py, line 1)",
     "output_type": "error",
     "traceback": [
      "\u001b[0;36m  Cell \u001b[0;32mIn[52], line 1\u001b[0;36m\u001b[0m\n\u001b[0;31m    'this is wrong 'bob''\u001b[0m\n\u001b[0m                    ^\u001b[0m\n\u001b[0;31mSyntaxError\u001b[0m\u001b[0;31m:\u001b[0m invalid syntax\n"
     ]
    }
   ],
   "source": [
    "'this is wrong 'bob''"
   ]
  },
  {
   "cell_type": "code",
   "execution_count": 53,
   "metadata": {},
   "outputs": [
    {
     "data": {
      "text/plain": [
       "\"this is good 'bob'\""
      ]
     },
     "execution_count": 53,
     "metadata": {},
     "output_type": "execute_result"
    }
   ],
   "source": [
    "'this is good \\'bob\\'' # adding \\ is called an escape character"
   ]
  },
  {
   "cell_type": "code",
   "execution_count": 54,
   "metadata": {},
   "outputs": [
    {
     "data": {
      "text/plain": [
       "'1\\n2\\n3\\n'"
      ]
     },
     "execution_count": 54,
     "metadata": {},
     "output_type": "execute_result"
    }
   ],
   "source": [
    "\"1\\n2\\n3\\n\" # \\n is a new line escape character"
   ]
  },
  {
   "cell_type": "markdown",
   "metadata": {},
   "source": [
    "# Formated Printing\n",
    "\n",
    "There is more than one way to do this, but here are the basic ways. Also jupyter will automatically print the last value in a cell (see above). However, if you want to print other stuff, you need to use the `print` command.\n",
    "\n",
    "| Escape Char | Description |\n",
    "|----|----------------------|\n",
    "`\\r` | return\n",
    "`\\n` | new line\n",
    "`\\t` | tab\n",
    "`\\'` | single quote mark\n",
    "`\\\"` | double quote mark"
   ]
  },
  {
   "cell_type": "code",
   "execution_count": 1,
   "metadata": {},
   "outputs": [
    {
     "name": "stdout",
     "output_type": "stream",
     "text": [
      "hello world\n",
      "hello world\n",
      "3/4 is 0.75  ... this should be 0.75\n",
      "I am Yoda ... for 853 yrs I have been training Jedhi\n",
      "float:   3.1\n"
     ]
    }
   ],
   "source": [
    "pi = 3.142745\n",
    "print('hello world')  # single quotes\n",
    "print(\"hello world\")  # double quotes\n",
    "print('3/4 is', 3/4, \" ... this should be 0.75\")  # this prints 0.75\n",
    "\n",
    "name = \"Yoda\"\n",
    "age = 853\n",
    "print(f'I am {name} ... for {age} yrs I have been training Jedhi')\n",
    "print(f'float: {pi:5.1f}')  # prints float with 5 numbers and 1 number after decimal place"
   ]
  },
  {
   "cell_type": "code",
   "execution_count": 2,
   "metadata": {},
   "outputs": [
    {
     "name": "stdout",
     "output_type": "stream",
     "text": [
      "1\n",
      "2\n",
      "3\n",
      "\n"
     ]
    }
   ],
   "source": [
    "print(\"1\\n2\\n3\\n\") # \\n is a new line escape character"
   ]
  },
  {
   "cell_type": "code",
   "execution_count": 3,
   "metadata": {},
   "outputs": [
    {
     "name": "stdout",
     "output_type": "stream",
     "text": [
      "3\n"
     ]
    }
   ],
   "source": [
    "print(\"1\\r2\\r3\\r\") # \\r is a return escape character"
   ]
  },
  {
   "cell_type": "code",
   "execution_count": 10,
   "metadata": {},
   "outputs": [
    {
     "name": "stdout",
     "output_type": "stream",
     "text": [
      "☂ ☠ 😀\n"
     ]
    }
   ],
   "source": [
    "# Unicode\n",
    "# https://unicode-explorer.com/\n",
    "#\n",
    "# 5 hex numbers:\n",
    "# smiley face: U+1F600 --> \\U 000 1F600\n",
    "print(u\"\\u2602 \\u2620 \\U0001f600\")"
   ]
  },
  {
   "cell_type": "markdown",
   "metadata": {},
   "source": [
    "## Input\n",
    "\n",
    "You can ask the user for information using the `input` command:"
   ]
  },
  {
   "cell_type": "code",
   "execution_count": 43,
   "metadata": {},
   "outputs": [
    {
     "name": "stdin",
     "output_type": "stream",
     "text": [
      "What is your name? kevin\n"
     ]
    },
    {
     "data": {
      "text/plain": [
       "'kevin'"
      ]
     },
     "execution_count": 43,
     "metadata": {},
     "output_type": "execute_result"
    }
   ],
   "source": [
    "input(\"What is your name?\")"
   ]
  },
  {
   "cell_type": "markdown",
   "metadata": {},
   "source": [
    "## Libraries\n",
    "\n",
    "There are lots of libraries for python, let's look at the `math` library."
   ]
  },
  {
   "cell_type": "code",
   "execution_count": 62,
   "metadata": {},
   "outputs": [
    {
     "name": "stdout",
     "output_type": "stream",
     "text": [
      "messy 0.7071067811865476\n"
     ]
    }
   ],
   "source": [
    "import math\n",
    "\n",
    "print('messy', math.cos(math.pi/4))"
   ]
  },
  {
   "cell_type": "code",
   "execution_count": 63,
   "metadata": {},
   "outputs": [
    {
     "name": "stdout",
     "output_type": "stream",
     "text": [
      "simpler math: 0.7071067811865476\n"
     ]
    }
   ],
   "source": [
    "# that looks clumbsy ... let's do this instead\n",
    "from math import cos, pi\n",
    "\n",
    "print('simpler math:', cos(pi/4))"
   ]
  },
  {
   "cell_type": "code",
   "execution_count": 64,
   "metadata": {},
   "outputs": [
    {
     "data": {
      "text/plain": [
       "['__doc__',\n",
       " '__file__',\n",
       " '__loader__',\n",
       " '__name__',\n",
       " '__package__',\n",
       " '__spec__',\n",
       " 'acos',\n",
       " 'acosh',\n",
       " 'asin',\n",
       " 'asinh',\n",
       " 'atan',\n",
       " 'atan2',\n",
       " 'atanh',\n",
       " 'cbrt',\n",
       " 'ceil',\n",
       " 'comb',\n",
       " 'copysign',\n",
       " 'cos',\n",
       " 'cosh',\n",
       " 'degrees',\n",
       " 'dist',\n",
       " 'e',\n",
       " 'erf',\n",
       " 'erfc',\n",
       " 'exp',\n",
       " 'exp2',\n",
       " 'expm1',\n",
       " 'fabs',\n",
       " 'factorial',\n",
       " 'floor',\n",
       " 'fmod',\n",
       " 'frexp',\n",
       " 'fsum',\n",
       " 'gamma',\n",
       " 'gcd',\n",
       " 'hypot',\n",
       " 'inf',\n",
       " 'isclose',\n",
       " 'isfinite',\n",
       " 'isinf',\n",
       " 'isnan',\n",
       " 'isqrt',\n",
       " 'lcm',\n",
       " 'ldexp',\n",
       " 'lgamma',\n",
       " 'log',\n",
       " 'log10',\n",
       " 'log1p',\n",
       " 'log2',\n",
       " 'modf',\n",
       " 'nan',\n",
       " 'nextafter',\n",
       " 'perm',\n",
       " 'pi',\n",
       " 'pow',\n",
       " 'prod',\n",
       " 'radians',\n",
       " 'remainder',\n",
       " 'sin',\n",
       " 'sinh',\n",
       " 'sqrt',\n",
       " 'tan',\n",
       " 'tanh',\n",
       " 'tau',\n",
       " 'trunc',\n",
       " 'ulp']"
      ]
     },
     "execution_count": 64,
     "metadata": {},
     "output_type": "execute_result"
    }
   ],
   "source": [
    "# well what is in the math library I might want to use????\n",
    "dir(math)"
   ]
  },
  {
   "cell_type": "code",
   "execution_count": 65,
   "metadata": {},
   "outputs": [
    {
     "name": "stdout",
     "output_type": "stream",
     "text": [
      "Help on built-in function tanh in module math:\n",
      "\n",
      "tanh(x, /)\n",
      "    Return the hyperbolic tangent of x.\n",
      "\n"
     ]
    }
   ],
   "source": [
    "# what is tanh???\n",
    "help(math.tanh)"
   ]
  },
  {
   "cell_type": "code",
   "execution_count": 66,
   "metadata": {},
   "outputs": [
    {
     "name": "stdout",
     "output_type": "stream",
     "text": [
      "This module provides access to the mathematical functions\n",
      "defined by the C standard.\n"
     ]
    }
   ],
   "source": [
    "print(math.__doc__)  # print the doc string for the library ... what does it do?"
   ]
  },
  {
   "cell_type": "markdown",
   "metadata": {},
   "source": [
    "## Integers (`int`)\n",
    "\n",
    "In python 3, there is limit to the size of an integer (whole number)."
   ]
  },
  {
   "cell_type": "code",
   "execution_count": 75,
   "metadata": {},
   "outputs": [
    {
     "data": {
      "text/plain": [
       "12"
      ]
     },
     "execution_count": 75,
     "metadata": {},
     "output_type": "execute_result"
    }
   ],
   "source": [
    "int(12.34)"
   ]
  },
  {
   "cell_type": "code",
   "execution_count": 76,
   "metadata": {},
   "outputs": [
    {
     "data": {
      "text/plain": [
       "123"
      ]
     },
     "execution_count": 76,
     "metadata": {},
     "output_type": "execute_result"
    }
   ],
   "source": [
    "int('123')"
   ]
  },
  {
   "cell_type": "markdown",
   "metadata": {},
   "source": [
    "## Floating Point Numbers (`float`)\n",
    "\n",
    "In python 3, there is limit to the size of an integer (whole number).\n",
    "\n",
    "A floating point number (fractional number) has a maximum and minimum value."
   ]
  },
  {
   "cell_type": "code",
   "execution_count": 81,
   "metadata": {},
   "outputs": [
    {
     "name": "stdout",
     "output_type": "stream",
     "text": [
      "float values\n",
      "\tSmallest: 2.2250738585072014e-308\n",
      "\tLargest: 1.7976931348623157e+308\n",
      "15.3456\n"
     ]
    }
   ],
   "source": [
    "import sys # import system library\n",
    "\n",
    "print(f\"float values\\n\\tSmallest: {sys.float_info.min}\\n\\tLargest: {sys.float_info.max}\")\n",
    "\n",
    "# convert a string to a number and do math\n",
    "print(float(\"12.3456\") + 3)"
   ]
  },
  {
   "cell_type": "markdown",
   "metadata": {},
   "source": [
    "## Boolean (`bool`)\n",
    "\n",
    "This is a fancy name for `True` or `False` ... note they are capitalized. You can have a variable that is a `bool` or do an operation that results in a `bool`.\n",
    "\n",
    "| Logic | Result |\n",
    "|------------------|---------|\n",
    "| `True` AND `True`  | `True`  |\n",
    "| `True` AND `False` | `False` |\n",
    "| `False` AND `True`  | `False` |\n",
    "| `False` AND `False` | `False` |\n",
    "| `True`  OR `True`  | `True`  |\n",
    "| `True`  OR `False` | `True`  |\n",
    "| `False` OR `True`  | `True`  |\n",
    "| `False` OR `False` | `False` |\n",
    "\n",
    "Also:\n",
    "\n",
    "```python\n",
    "0 is False\n",
    ">0 (positive) is True\n",
    "<0 (negative) is True\n",
    "```"
   ]
  },
  {
   "cell_type": "code",
   "execution_count": 88,
   "metadata": {},
   "outputs": [
    {
     "name": "stdout",
     "output_type": "stream",
     "text": [
      "T and F: False\n",
      "123 and 0: 0\n",
      "123 and 0: False\n",
      "T and -1: True\n"
     ]
    }
   ],
   "source": [
    "print(\"T and F:\", True and False)\n",
    "print(\"123 and 0:\", 123 and 0) \n",
    "print(\"123 and 0:\", bool(123 and 0)) \n",
    "print(\"T and -1:\", bool(True and 123))"
   ]
  },
  {
   "cell_type": "markdown",
   "metadata": {},
   "source": [
    "## Logic Operators\n",
    "\n",
    "Flow control is generally done via some math operator or boolean logic operator.\n",
    "\n",
    "![](pics/logic.png)\n",
    "\n",
    "![](pics/logic2.png)"
   ]
  },
  {
   "cell_type": "markdown",
   "metadata": {},
   "source": [
    "## `isinstance`\n",
    "\n",
    "Check if a variable is a certain type."
   ]
  },
  {
   "cell_type": "code",
   "execution_count": 5,
   "metadata": {},
   "outputs": [
    {
     "name": "stdout",
     "output_type": "stream",
     "text": [
      "True\n",
      "True\n",
      "False\n",
      "True\n",
      "True\n"
     ]
    }
   ],
   "source": [
    "print(isinstance(1,int))\n",
    "print(isinstance(\"hello\", str))\n",
    "print(isinstance('a',float))\n",
    "print(not isinstance('a',float))\n",
    "print(isinstance([1,2,3],list))"
   ]
  },
  {
   "cell_type": "markdown",
   "metadata": {},
   "source": [
    "## `None`\n",
    "\n",
    "`None` represents no value."
   ]
  },
  {
   "cell_type": "code",
   "execution_count": 3,
   "metadata": {},
   "outputs": [
    {
     "name": "stdout",
     "output_type": "stream",
     "text": [
      "None\n"
     ]
    }
   ],
   "source": [
    "a = None\n",
    "print(a)"
   ]
  },
  {
   "cell_type": "markdown",
   "metadata": {},
   "source": [
    "## `Enum` (or Enumerations)\n",
    "\n",
    "You can use these to track the state of a game. These are **constant** values and you cannot change their value."
   ]
  },
  {
   "cell_type": "code",
   "execution_count": 6,
   "metadata": {},
   "outputs": [
    {
     "name": "stdout",
     "output_type": "stream",
     "text": [
      "GameState.START_SCREEN\n",
      "False\n",
      "GameState.PLAY_SCREEN\n"
     ]
    }
   ],
   "source": [
    "from enum import Enum\n",
    "\n",
    "class GameState(Enum):\n",
    "    START_SCREEN = 1\n",
    "    PLAY_SCREEN = 2\n",
    "    END_SCREEN = 3\n",
    "\n",
    "state = GameState.START_SCREEN\n",
    "print(state)\n",
    "print(state == GameState.END_SCREEN)\n",
    "state = GameState.PLAY_SCREEN\n",
    "print(state)"
   ]
  },
  {
   "cell_type": "markdown",
   "metadata": {},
   "source": [
    "# Questions\n",
    "\n",
    "1. What is the difference between an `int` and a `float`?\n",
    "2. What are the 2 ways to create a string?\n",
    "3. What are the only correct value for a boolean?\n",
    "4. What operator returns the remainder of a division operation?\n",
    "5. What operator performs integer division or only returns whole numbers?\n",
    "6. How would I check if the variable `bob` is:\n",
    "   - Greater than or equal to 10?\n",
    "   - Not equal to 12?\n",
    "   - Is an integer?\n",
    "   - Is **not** an integer?\n",
    "1. Write a python script that asks for your name (`<name>`) and asks you to guess a random number between 0 and 9 or quit.\n",
    "   ```\n",
    "   What is your name?\n",
    "   Guess a number from 0-9 or press q to quit\n",
    "   You guessed 7, wrong, the number was 3. Go again?\n",
    "   You guessed 1, wrong, the number was 5. Go again?\n",
    "   Correct, great job <name>!!! Go again?\n",
    "   ```"
   ]
  },
  {
   "cell_type": "code",
   "execution_count": null,
   "metadata": {},
   "outputs": [],
   "source": []
  }
 ],
 "metadata": {
  "kernelspec": {
   "display_name": "Python 3 (ipykernel)",
   "language": "python",
   "name": "python3"
  },
  "language_info": {
   "codemirror_mode": {
    "name": "ipython",
    "version": 3
   },
   "file_extension": ".py",
   "mimetype": "text/x-python",
   "name": "python",
   "nbconvert_exporter": "python",
   "pygments_lexer": "ipython3",
   "version": "3.13.0"
  }
 },
 "nbformat": 4,
 "nbformat_minor": 4
}
