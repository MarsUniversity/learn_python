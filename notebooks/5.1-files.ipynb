{
 "cells": [
  {
   "cell_type": "markdown",
   "id": "ad27bf62-dd95-4073-aa75-19ea02c4ec79",
   "metadata": {},
   "source": [
    "# Files\n",
    "\n",
    "There are times you want to read data from or save data to a file. In programming we use libraries that **serializing** data. \n",
    "\n",
    "> In computing, serialization is the process of translating a data structure or object state into a format that can be stored (e.g. files in secondary storage devices, data buffers in primary storage devices) or transmitted (e.g. data streams over computer networks) and reconstructed later (possibly in a different computer environment). When the resulting series of bits is reread according to the serialization format, it can be used to create a semantically identical clone of the original object. ([Wikipedia ref](https://en.wikipedia.org/wiki/Serialization))\n",
    "\n",
    "You can look at the root of the word **serial** which means one-after-the-other. Basically, we reorder data in a program so it is an array of bits. This allows us to easily write this to a file.\n",
    "\n",
    "![](./pics/serial-data.webp)\n",
    "\n",
    "Besides files, serializers can be use to write data to a network using TCP or UDP communications and send it across the internet.\n",
    "\n",
    "Here are some simple but useful serializers used to read/write files:\n",
    "\n",
    "| Type | Pro | Con | Serialize | Deserialize\n",
    "|---|---|---|---|---|\n",
    "| `json` | Used heavily by internet | No comments in file | `dump()` | `load()`\n",
    "| `yaml` | Used as config files and supports comments | None | `dump()` | `load()`\n",
    "| `pickle` | Binary format, so makes small files, but not human readable | Python only | `dump()` or `pack()` | `load()` or `unpack()`"
   ]
  },
  {
   "cell_type": "code",
   "execution_count": 1,
   "id": "64920138-db62-44a9-9b33-ea31bd98d685",
   "metadata": {},
   "outputs": [],
   "source": [
    "import json\n",
    "import yaml\n",
    "import pickle"
   ]
  },
  {
   "cell_type": "markdown",
   "id": "426f37b7-b2a9-4de9-98e6-f36477cf14f1",
   "metadata": {},
   "source": [
    "## Json\n",
    "\n",
    "```json\n",
    "{\n",
    "    \"tom\": 21,\n",
    "    \"bob\": {\n",
    "        \"a\": 1,\n",
    "        \"b\": 2\n",
    "    },\n",
    "    \"Salley\": [1,2,3]\n",
    "}\n",
    "```"
   ]
  },
  {
   "cell_type": "code",
   "execution_count": 35,
   "id": "125d2ab2-bb80-4434-b45a-f09ac63aa124",
   "metadata": {},
   "outputs": [
    {
     "name": "stdout",
     "output_type": "stream",
     "text": [
      "{'tom': 21, 'bob': {'a': 1, 'b': 2}, 'Salley': [1, 2, 3, 4]}\n"
     ]
    }
   ],
   "source": [
    "j = {}\n",
    "j[\"tom\"] = 21\n",
    "j[\"bob\"] = {\"a\": 1, \"b\": 2}\n",
    "j[\"Salley\"] = [1,2,3,4]\n",
    "print(j)"
   ]
  },
  {
   "cell_type": "code",
   "execution_count": 36,
   "id": "d744e602-dc7a-4d76-94d5-f3267174b4c3",
   "metadata": {},
   "outputs": [
    {
     "name": "stdout",
     "output_type": "stream",
     "text": [
      "{\"tom\": 21, \"bob\": {\"a\": 1, \"b\": 2}, \"Salley\": [1, 2, 3, 4]}\n",
      "<class 'str'>\n",
      "{'tom': 21, 'bob': {'a': 1, 'b': 2}, 'Salley': [1, 2, 3, 4]}\n",
      "Are they the same? True\n"
     ]
    }
   ],
   "source": [
    "s = json.dumps(j) # turn into json\n",
    "print(s)\n",
    "print(type(s))\n",
    "jj = json.loads(s)\n",
    "print(jj)\n",
    "print(\"Are they the same?\", j == jj)"
   ]
  },
  {
   "cell_type": "code",
   "execution_count": 37,
   "id": "9a7be473-e13a-435b-bbc8-ee7aff36833c",
   "metadata": {},
   "outputs": [],
   "source": [
    "# write data to file ... see \"w\" in command\n",
    "with open(\"test.json\",\"w\") as fd:\n",
    "    json.dump(j, fd)"
   ]
  },
  {
   "cell_type": "code",
   "execution_count": 38,
   "id": "f027f0a6-8b77-478d-a9b9-c94ce20a65cd",
   "metadata": {},
   "outputs": [
    {
     "data": {
      "text/plain": [
       "['{\"tom\": 21, \"bob\": {\"a\": 1, \"b\": 2}, \"Salley\": [1, 2, 3, 4]}']"
      ]
     },
     "execution_count": 38,
     "metadata": {},
     "output_type": "execute_result"
    }
   ],
   "source": [
    "# show what the test.json file looks like\n",
    "!!cat test.json"
   ]
  },
  {
   "cell_type": "code",
   "execution_count": 39,
   "id": "d540b29c-d112-413f-bbbf-15a295ba4283",
   "metadata": {},
   "outputs": [
    {
     "name": "stdout",
     "output_type": "stream",
     "text": [
      "Are they the same: True\n",
      "{'tom': 21, 'bob': {'a': 1, 'b': 2}, 'Salley': [1, 2, 3, 4]}\n"
     ]
    }
   ],
   "source": [
    "with open(\"test.json\",\"r\") as fd:\n",
    "    jjj = json.load(fd)\n",
    "\n",
    "print(\"Are they the same:\", j == jjj)\n",
    "print(jjj)"
   ]
  },
  {
   "cell_type": "markdown",
   "id": "8d601780-04cd-4a98-a6d0-3ebb4a896f22",
   "metadata": {},
   "source": [
    "## Yaml\n",
    "\n",
    "```yaml\n",
    "# this is a comment and allows us to remove things\n",
    "# from a file without deleting them\n",
    "tom: 21\n",
    "# Mark: 1234 this line will not be read\n",
    "bob:\n",
    "    a: 1\n",
    "    b: 2\n",
    "Salley:\n",
    "    - 1\n",
    "    - 2\n",
    "    - 3\n",
    "    - 4\n",
    "\n",
    "```"
   ]
  },
  {
   "cell_type": "code",
   "execution_count": 40,
   "id": "33d52abb-f973-4a30-80af-13a9471c4f9f",
   "metadata": {},
   "outputs": [
    {
     "name": "stdout",
     "output_type": "stream",
     "text": [
      "{'tom': 21, 'bob': {'a': 1, 'b': 2}, 'Salley': [1, 2, 3, 4]}\n",
      "Salley:\n",
      "- 1\n",
      "- 2\n",
      "- 3\n",
      "- 4\n",
      "bob:\n",
      "  a: 1\n",
      "  b: 2\n",
      "tom: 21\n",
      "\n",
      "<class 'str'>\n",
      "{'Salley': [1, 2, 3, 4], 'bob': {'a': 1, 'b': 2}, 'tom': 21}\n",
      "Are they the same? True\n"
     ]
    }
   ],
   "source": [
    "print(j)\n",
    "s = yaml.dump(j) # turn into json\n",
    "print(s)\n",
    "print(type(s))\n",
    "jj = yaml.safe_load(s)\n",
    "print(jj)\n",
    "print(\"Are they the same?\", j == jj)"
   ]
  },
  {
   "cell_type": "code",
   "execution_count": 41,
   "id": "d27c0341-0e46-4f3a-8783-788f553aca3b",
   "metadata": {},
   "outputs": [],
   "source": [
    "with open(\"test.yaml\",\"w\") as fd:\n",
    "    yaml.dump(j, fd)"
   ]
  },
  {
   "cell_type": "code",
   "execution_count": 42,
   "id": "1e6466eb-3bd5-4b70-906d-4cd741e5e4cd",
   "metadata": {},
   "outputs": [
    {
     "data": {
      "text/plain": [
       "['Salley:', '- 1', '- 2', '- 3', '- 4', 'bob:', '  a: 1', '  b: 2', 'tom: 21']"
      ]
     },
     "execution_count": 42,
     "metadata": {},
     "output_type": "execute_result"
    }
   ],
   "source": [
    "!!cat test.yaml"
   ]
  },
  {
   "cell_type": "code",
   "execution_count": 43,
   "id": "9fae6d1a-93c6-47c1-8ddd-9a0a8a35e042",
   "metadata": {},
   "outputs": [
    {
     "name": "stdout",
     "output_type": "stream",
     "text": [
      "Are they the same: True\n",
      "{'Salley': [1, 2, 3, 4], 'bob': {'a': 1, 'b': 2}, 'tom': 21}\n"
     ]
    }
   ],
   "source": [
    "with open(\"test.yaml\",\"r\") as fd:\n",
    "    jjj = yaml.safe_load(fd)\n",
    "\n",
    "print(\"Are they the same:\", j == jjj)\n",
    "print(jjj)"
   ]
  },
  {
   "cell_type": "markdown",
   "id": "d08866e5-7cd1-41ce-9572-942aeb26ae88",
   "metadata": {},
   "source": [
    "## Pickle\n",
    "\n",
    "Unlike the two previous serializers (json and yaml), this produces a binary result.\n",
    "\n",
    "```python\n",
    "# example of pickled data, this is a binary string\n",
    "b'\\x80\\x04\\x958\\x00\\x00\\x00\\x00\\x00\\x00\\x00}\\x94(\\x8c\\x03tom\\x94K\\x15\\x8c\\x03bob\\x94}\\x94(\\x8c\\x01a\\x94K\\x01\\x8c\\x01b\\x94K\\x02u\\x8c\\x06Salley\\x94]\\x94(K\\x01K\\x02K\\x03K\\x04eu.'\n",
    "```\n",
    "\n",
    "We say this is _not_ a human readable because you need to convert bites into letters, numbers, or other data. Below shows an example of a binary dump. The left side is binary data and the right is anything that can be put into a format a human can understand.\n",
    "\n",
    "![](./pics/binary.jpg)"
   ]
  },
  {
   "cell_type": "code",
   "execution_count": 45,
   "id": "f160c9b9-a8f9-435d-8e27-93c59a24628e",
   "metadata": {},
   "outputs": [
    {
     "name": "stdout",
     "output_type": "stream",
     "text": [
      "{'tom': 21, 'bob': {'a': 1, 'b': 2}, 'Salley': [1, 2, 3, 4]}\n",
      "b'\\x80\\x04\\x958\\x00\\x00\\x00\\x00\\x00\\x00\\x00}\\x94(\\x8c\\x03tom\\x94K\\x15\\x8c\\x03bob\\x94}\\x94(\\x8c\\x01a\\x94K\\x01\\x8c\\x01b\\x94K\\x02u\\x8c\\x06Salley\\x94]\\x94(K\\x01K\\x02K\\x03K\\x04eu.'\n",
      "<class 'bytes'>\n",
      "{'tom': 21, 'bob': {'a': 1, 'b': 2}, 'Salley': [1, 2, 3, 4]}\n",
      "Are they the same? True\n"
     ]
    }
   ],
   "source": [
    "print(j)\n",
    "s = pickle.dumps(j) # turn into json\n",
    "print(s)\n",
    "print(type(s))\n",
    "jj = pickle.loads(s)\n",
    "print(jj)\n",
    "print(\"Are they the same?\", j == jj)"
   ]
  },
  {
   "cell_type": "code",
   "execution_count": 47,
   "id": "9891f70a-c868-47f3-a1a9-a453efb7c9ea",
   "metadata": {},
   "outputs": [],
   "source": [
    "# since this is binary, notice the write is now \"wb\" where\n",
    "# the 'b' is for binary\n",
    "with open(\"test.pkl\",\"wb\") as fd:\n",
    "    pickle.dump(j, fd)"
   ]
  },
  {
   "cell_type": "code",
   "execution_count": 48,
   "id": "0781ad54-ce15-4981-84c1-6db7264cacc5",
   "metadata": {},
   "outputs": [
    {
     "data": {
      "text/plain": [
       "['�\\x04�8\\x00\\x00\\x00\\x00\\x00\\x00\\x00}�(�\\x03tom�K\\x15�\\x03bob�}�(�\\x01a�K\\x01�\\x01b�K\\x02u�\\x06Salley�]�(K\\x01K\\x02K\\x03K\\x04eu.']"
      ]
     },
     "execution_count": 48,
     "metadata": {},
     "output_type": "execute_result"
    }
   ],
   "source": [
    "!!cat test.pkl"
   ]
  },
  {
   "cell_type": "code",
   "execution_count": 51,
   "id": "7facc837-a39d-4380-b834-e3de1ad3fc31",
   "metadata": {},
   "outputs": [
    {
     "name": "stdout",
     "output_type": "stream",
     "text": [
      "Are they the same: True\n",
      "{'tom': 21, 'bob': {'a': 1, 'b': 2}, 'Salley': [1, 2, 3, 4]}\n"
     ]
    }
   ],
   "source": [
    "with open(\"test.pkl\",\"rb\") as fd:\n",
    "    jjj = pickle.load(fd)\n",
    "\n",
    "print(\"Are they the same:\", j == jjj)\n",
    "print(jjj)"
   ]
  },
  {
   "cell_type": "code",
   "execution_count": null,
   "id": "34295989-14e3-4f11-b166-083e59fdaa13",
   "metadata": {},
   "outputs": [],
   "source": []
  }
 ],
 "metadata": {
  "kernelspec": {
   "display_name": "Python 3 (ipykernel)",
   "language": "python",
   "name": "python3"
  },
  "language_info": {
   "codemirror_mode": {
    "name": "ipython",
    "version": 3
   },
   "file_extension": ".py",
   "mimetype": "text/x-python",
   "name": "python",
   "nbconvert_exporter": "python",
   "pygments_lexer": "ipython3",
   "version": "3.13.0"
  }
 },
 "nbformat": 4,
 "nbformat_minor": 5
}
