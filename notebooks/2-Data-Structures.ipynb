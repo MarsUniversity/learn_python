{
 "cells": [
  {
   "cell_type": "markdown",
   "metadata": {},
   "source": [
    "# 2. Data Types\n",
    "\n",
    "Kevin J. Walchko\n",
    "\n",
    "----\n",
    "\n",
    "Python isn't typed, so you don't really need to keep track of variables and delare them as `int`, `float`, `double`, `unsigned`, etc. There are a few places where this isn't true, but we will deal with those as we encounter them.\n",
    "\n",
    "## Objectives\n",
    "\n",
    "- Understand the following data types python uses:\n",
    "    - Bools\n",
    "    - tuples\n",
    "    - list\n",
    "    - dictionaries\n",
    "    - strings\n",
    "\n",
    "## References\n",
    "\n",
    "- [Automate the Boring Stuff with Python](https://automatetheboringstuff.com)\n",
    "    - Read: Chapters 4 Lists and Chapter 5 Dictionaries and Structuring Data"
   ]
  },
  {
   "cell_type": "markdown",
   "metadata": {},
   "source": [
    "## Lists\n",
    "\n",
    "Lists store information one after the other, from left to right, and can be accessed by an index number.\n",
    "\n",
    "```python\n",
    "bob = [11,12,13]\n",
    "bob[0] # this is 11\n",
    "bob[1] # this is 12\n",
    "bob[2] # this is 13\n",
    "```"
   ]
  },
  {
   "cell_type": "code",
   "execution_count": 10,
   "metadata": {},
   "outputs": [
    {
     "name": "stdout",
     "output_type": "stream",
     "text": [
      "bob list [1, 2, 'tom', 4, 5]\n",
      "bob list[3]: 4\n",
      "bob one-liner version 2: [1, 1, 1, 1, 1]\n",
      "len(bob) = 5\n"
     ]
    }
   ],
   "source": [
    "# arrays or lists are mutable (changable)\n",
    "# the first element is 0 like all good programming languages\n",
    "bob = [1,2,3,4,5]\n",
    "bob[2] = 'tom'\n",
    "print('bob list', bob)\n",
    "print('bob list[3]:', bob[3])  # remember it is zero indexed\n",
    "\n",
    "# or ... tuple will do this too\n",
    "bob = [1]*5\n",
    "print('bob one-liner version 2:', bob)\n",
    "print('len(bob) =', len(bob))"
   ]
  },
  {
   "cell_type": "markdown",
   "metadata": {},
   "source": [
    "## Tuples\n",
    "\n",
    "Tuples are like a `list`, but once you make them, you cannot change their values. In programming terms this is called immutable."
   ]
  },
  {
   "cell_type": "code",
   "execution_count": 14,
   "metadata": {},
   "outputs": [
    {
     "name": "stdout",
     "output_type": "stream",
     "text": [
      "bob tuple (1, 2, 3, 4)\n",
      "bob tuple*3 (1, 2, 3, 4, 1, 2, 3, 4, 1, 2, 3, 4)\n",
      "len(bob) = 4\n"
     ]
    }
   ],
   "source": [
    "# tuples are immutable (not changable which makes them faster/smaller)\n",
    "bob = (1,2,3,4)\n",
    "print('bob tuple', bob)\n",
    "print('bob tuple*3', bob*3)  # repeats tuple 3x\n",
    "print('len(bob) =', len(bob))"
   ]
  },
  {
   "cell_type": "code",
   "execution_count": 15,
   "metadata": {},
   "outputs": [
    {
     "ename": "TypeError",
     "evalue": "'tuple' object does not support item assignment",
     "output_type": "error",
     "traceback": [
      "\u001b[0;31m---------------------------------------------------------------------------\u001b[0m",
      "\u001b[0;31mTypeError\u001b[0m                                 Traceback (most recent call last)",
      "Cell \u001b[0;32mIn[15], line 2\u001b[0m\n\u001b[1;32m      1\u001b[0m \u001b[38;5;66;03m# since tuples are immutable, this will throw an error\u001b[39;00m\n\u001b[0;32m----> 2\u001b[0m \u001b[43mbob\u001b[49m\u001b[43m[\u001b[49m\u001b[38;5;241;43m1\u001b[39;49m\u001b[43m]\u001b[49m \u001b[38;5;241m=\u001b[39m \u001b[38;5;124m'\u001b[39m\u001b[38;5;124mtom\u001b[39m\u001b[38;5;124m'\u001b[39m\n",
      "\u001b[0;31mTypeError\u001b[0m: 'tuple' object does not support item assignment"
     ]
    }
   ],
   "source": [
    "# since tuples are immutable, this will throw an error\n",
    "bob[1] = 'tom'"
   ]
  },
  {
   "cell_type": "code",
   "execution_count": 17,
   "metadata": {},
   "outputs": [
    {
     "name": "stdout",
     "output_type": "stream",
     "text": [
      "4 5\n",
      "5 4\n"
     ]
    }
   ],
   "source": [
    "# this works for both lists and tuples\n",
    "# assign multiple variables at once\n",
    "bob = (4,5,)\n",
    "x,y = bob\n",
    "print(x,y)\n",
    "\n",
    "# wait, I changed by mind ... easy to swap\n",
    "x,y = y,x\n",
    "print(x,y)"
   ]
  },
  {
   "cell_type": "markdown",
   "metadata": {},
   "source": [
    "## Dictionaries\n",
    "\n",
    "Dictionaries store pairs of `key`, `value` pairs:\n",
    "\n",
    "```python\n",
    "my_dict = {\n",
    "    'a': 2, # get 2 using my_dict['a']\n",
    "    'b': 3,\n",
    "    'c': 4\n",
    "}\n",
    "```"
   ]
  },
  {
   "cell_type": "code",
   "execution_count": 16,
   "metadata": {},
   "outputs": [
    {
     "name": "stdout",
     "output_type": "stream",
     "text": [
      "bob[\"a\"]: 5\n",
      "{'a': 5, 'b': 6, 'c': 'this is a string!!'}\n",
      "len(bob) = 3\n",
      "bob.keys() = dict_keys(['a', 'b', 'c'])\n"
     ]
    }
   ],
   "source": [
    "# dictionary or hash tables\n",
    "# these store key, value pairs\n",
    "bob = {'a': 5, 'b': 6}\n",
    "print(f'bob[\"a\"]: {bob[\"a\"]}')\n",
    "\n",
    "# you can assign a new key/values pair\n",
    "bob['c'] = 'this is a string!!'\n",
    "print(bob)\n",
    "print('len(bob) =', len(bob))\n",
    "\n",
    "# you can also access what keys are in a dict\n",
    "print('bob.keys() =', bob.keys())"
   ]
  },
  {
   "cell_type": "markdown",
   "metadata": {},
   "source": [
    "## Strings\n",
    "\n",
    "You can think of a `string` as a `list` (or array) of letter/numbers/symbols and you can treat them as a `list`:"
   ]
  },
  {
   "cell_type": "code",
   "execution_count": 13,
   "metadata": {},
   "outputs": [
    {
     "name": "stdout",
     "output_type": "stream",
     "text": [
      "my crazy string: hello world\n",
      "formatting: 3.1234 6.67\n",
      "len(z) = 11\n"
     ]
    }
   ],
   "source": [
    "# strings\n",
    "z = 'hello world!!'\n",
    "z = 'hello' + ' world'  # concatinate or join them together\n",
    "z = 'hhhello world!@#$'[2:13]  # strings are just an array of letters\n",
    "print('my crazy string:', z)\n",
    "print('{}: {} {:.2f}'.format('formatting', 3.1234, 6.6666))\n",
    "print('len(z) =', len(z))"
   ]
  },
  {
   "cell_type": "code",
   "execution_count": 18,
   "metadata": {},
   "outputs": [
    {
     "data": {
      "text/plain": [
       "range(3, 10)"
      ]
     },
     "execution_count": 18,
     "metadata": {},
     "output_type": "execute_result"
    }
   ],
   "source": [
    "# range(start, stop, step)  # this only works for integer values\n",
    "range(3,10)  # jupyter cell will always print the last thing"
   ]
  },
  {
   "cell_type": "code",
   "execution_count": null,
   "metadata": {},
   "outputs": [],
   "source": []
  }
 ],
 "metadata": {
  "kernelspec": {
   "display_name": "Python 3 (ipykernel)",
   "language": "python",
   "name": "python3"
  },
  "language_info": {
   "codemirror_mode": {
    "name": "ipython",
    "version": 3
   },
   "file_extension": ".py",
   "mimetype": "text/x-python",
   "name": "python",
   "nbconvert_exporter": "python",
   "pygments_lexer": "ipython3",
   "version": "3.11.6"
  }
 },
 "nbformat": 4,
 "nbformat_minor": 4
}
