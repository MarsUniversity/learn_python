{
 "cells": [
  {
   "cell_type": "markdown",
   "id": "ac61c22d-b991-467c-b56f-3bb8c2fac737",
   "metadata": {},
   "source": [
    "# 3. Functions\n",
    "\n",
    "So we talked about the basic parts of the python language, here is how to add more features to the python language.\n",
    "\n",
    "- Libraries\n",
    "- Functions\n",
    "- Classes or OOP\n",
    "\n",
    "## Objectives\n",
    "\n",
    "- Understand\n",
    "  - Libraries\n",
    "  - Functions\n",
    "\n",
    "## References\n",
    "\n",
    "- [Automate the Boring Stuff with Python](https://automatetheboringstuff.com)\n",
    "    - Read: Chapter 3 Functions"
   ]
  },
  {
   "cell_type": "markdown",
   "id": "dabd3452-44c1-4069-8fc2-390eaa2cb846",
   "metadata": {},
   "source": [
    "# Functions\n",
    "\n",
    "In programming you find yourself re-writing the same code over and over. Functions allow you to break your code up into re-usable blocks of code."
   ]
  },
  {
   "cell_type": "code",
   "execution_count": 39,
   "id": "acfc126c-062b-4561-8ad5-f49415c77f0f",
   "metadata": {},
   "outputs": [
    {
     "data": {
      "text/plain": [
       "4.0"
      ]
     },
     "execution_count": 39,
     "metadata": {},
     "output_type": "execute_result"
    }
   ],
   "source": [
    "def my_cool_function(x):\n",
    "    \"\"\"\n",
    "    This is my cool function which takes an argument x\n",
    "    and returns a value\n",
    "    \"\"\"\n",
    "    return 2*x/3\n",
    "\n",
    "my_cool_function(6)  # 2*6/3 = 4.0"
   ]
  },
  {
   "cell_type": "code",
   "execution_count": 2,
   "id": "48856acc-df0d-486d-8769-e8922234b43e",
   "metadata": {},
   "outputs": [
    {
     "name": "stdout",
     "output_type": "stream",
     "text": [
      "Hello Bob\n",
      "Hello Harley\n",
      "Hello Misty\n"
     ]
    }
   ],
   "source": [
    "def sayHello(name):\n",
    "    # check to make sure it is a string, if\n",
    "    # not, then do nothing\n",
    "    if not isinstance(name, str):\n",
    "        return\n",
    "        \n",
    "    print(f\"Hello {name}\")\n",
    "\n",
    "sayHello(\"Bob\")\n",
    "sayHello(\"Harley\")\n",
    "sayHello(\"Misty\")\n",
    "sayHello(12)"
   ]
  },
  {
   "cell_type": "code",
   "execution_count": 3,
   "id": "ef6d144b-49eb-4ab1-92a2-5643ee68730f",
   "metadata": {},
   "outputs": [
    {
     "name": "stdout",
     "output_type": "stream",
     "text": [
      "Hello 12\n"
     ]
    }
   ],
   "source": [
    "# here is another way to do this IF you ALWAYS\n",
    "# want to print hello\n",
    "def sayHello(name):\n",
    "    # check to make sure it is a string, if\n",
    "    # not, then make it a string\n",
    "    if not isinstance(name, str):\n",
    "        name = str(name)\n",
    "        \n",
    "    print(f\"Hello {name}\")\n",
    "\n",
    "sayHello(12)"
   ]
  },
  {
   "cell_type": "code",
   "execution_count": 5,
   "id": "5cea1a40-e2b1-4078-a791-3dbc598134ba",
   "metadata": {},
   "outputs": [
    {
     "name": "stdout",
     "output_type": "stream",
     "text": [
      "hello bob\n",
      "hello bob\n",
      "hello bob\n",
      "hello tom\n",
      "welcome gus\n"
     ]
    }
   ],
   "source": [
    "# Now you can call the function with default ordering of arguments\n",
    "# or you can call a function using the argument (arg for short)\n",
    "# in order or out of order and get the same result\n",
    "def sayHello(greeting, name):\n",
    "    print(f\"{greeting} {name}\")\n",
    "\n",
    "sayHello(\"hello\",\"bob\")\n",
    "sayHello(greeting=\"hello\",name=\"bob\")\n",
    "sayHello(name=\"bob\",greeting=\"hello\")\n",
    "\n",
    "# *list puts the list elements in order into the function\n",
    "args = [\"hello\",\"tom\"]\n",
    "sayHello(*args)\n",
    "\n",
    "# the **dict sets this up as function(key1=value1, key2=value2 ...)\n",
    "args = {\"name\": \"gus\", \"greeting\": \"welcome\"}\n",
    "sayHello(**args)"
   ]
  },
  {
   "cell_type": "code",
   "execution_count": 6,
   "id": "7cdf375d-b691-4e36-b3fd-4d592440453a",
   "metadata": {},
   "outputs": [
    {
     "name": "stdout",
     "output_type": "stream",
     "text": [
      "hello bob\n",
      "good day sam\n"
     ]
    }
   ],
   "source": [
    "# args that have a sensible default can be setup to have\n",
    "# a default, but they must go at the end (see below). Args\n",
    "# where it doesn't make sense to have a default, must go\n",
    "# before any args with defaults\n",
    "def sayHello(name, greeting=\"good day\"):\n",
    "    print(f\"{greeting} {name}\")\n",
    "\n",
    "sayHello(\"bob\", \"hello\") # doesn't use default\n",
    "sayHello(\"sam\")          # uses default"
   ]
  },
  {
   "cell_type": "markdown",
   "id": "43237f48-2051-475c-af1a-ffdb70375b9f",
   "metadata": {},
   "source": [
    "## Error Handling\n",
    "\n",
    "`python` uses `try`/`except` to handle errors during runtime\n",
    "\n",
    "- tutorials on [exception handling](https://docs.python.org/3/tutorial/errors.html)\n",
    "- list of `python` [`Exceptions`](https://docs.python.org/3/library/exceptions.html#bltin-exceptions)\n",
    "\n",
    "```python\n",
    "try:\n",
    "    # this part of the code is where you do things\n",
    "    # and if an Exception (or error) occurs, it runs\n",
    "    # the next block of code\n",
    "    5/0 # divide by 0 error\n",
    "except:\n",
    "    # if an error occurs, \n",
    "    print(\"bad math\")\n",
    "```"
   ]
  },
  {
   "cell_type": "code",
   "execution_count": 10,
   "id": "2c74a330-a8ff-4a91-92e6-80769ec392e6",
   "metadata": {},
   "outputs": [
    {
     "name": "stdout",
     "output_type": "stream",
     "text": [
      "division by zero\n"
     ]
    }
   ],
   "source": [
    "try:\n",
    "    5/0\n",
    "except ZeroDivisionError as e:\n",
    "    print(e)"
   ]
  },
  {
   "cell_type": "code",
   "execution_count": 14,
   "id": "bb738091-4d00-4b4a-9446-b662a12d1df9",
   "metadata": {},
   "outputs": [
    {
     "name": "stdout",
     "output_type": "stream",
     "text": [
      "invalid index\n"
     ]
    }
   ],
   "source": [
    "try:\n",
    "    5/5\n",
    "    a = [1,2,3]\n",
    "    a[55] = 7\n",
    "except ZeroDivisionError:\n",
    "    print(\"bad math\")\n",
    "except IndexError:\n",
    "    print(\"invalid index\")"
   ]
  },
  {
   "cell_type": "code",
   "execution_count": 18,
   "id": "700b86ae-c19c-4137-99c1-76cf4e8b5e03",
   "metadata": {},
   "outputs": [
    {
     "name": "stdout",
     "output_type": "stream",
     "text": [
      "'tuple' object does not support item assignment\n"
     ]
    }
   ],
   "source": [
    "try:\n",
    "    5/5\n",
    "    a = [1,2,3]\n",
    "    a[1] = 7\n",
    "    b = {}\n",
    "    b[\"a\"] = 1\n",
    "    c = (1,2)\n",
    "    c[0] = 3\n",
    "except ZeroDivisionError:\n",
    "    print(\"bad math\")\n",
    "except IndexError:\n",
    "    print(\"invalid index\")\n",
    "except Exception as e:\n",
    "    # one of the above errors didn't happen, so this\n",
    "    # except catches everything else\n",
    "    print(e)"
   ]
  },
  {
   "cell_type": "markdown",
   "id": "475b9f64-d665-49e7-81ce-9d79f49e5d16",
   "metadata": {},
   "source": [
    "# Questions\n",
    "\n",
    "1. How would you handle a dictionary key error during runtime?\n",
    "2. Write a function that takes a string and prints the length and the string: `\">> str[5]: hello\"`\n",
    "3. Write a function that takes a dictionary, prints the number of keys and values, and prints each key/value combination. Your function should handle incorrect argument types (i.e., `list`, `int`, etc)\n",
    "    ```\n",
    "    given dictionary = {'a':\"hello\",'b':\"goodbye\",'c':\"see you\"}\n",
    "    \n",
    "    Dictionary with 3 key/values pairs\n",
    "    --------------------------------------\n",
    "    a: hello\n",
    "    b: goodbye\n",
    "    c: see you\n",
    "    ```"
   ]
  },
  {
   "cell_type": "code",
   "execution_count": null,
   "id": "0e4abe27-de8b-446b-ac35-558262193604",
   "metadata": {},
   "outputs": [],
   "source": []
  }
 ],
 "metadata": {
  "kernelspec": {
   "display_name": "Python 3 (ipykernel)",
   "language": "python",
   "name": "python3"
  },
  "language_info": {
   "codemirror_mode": {
    "name": "ipython",
    "version": 3
   },
   "file_extension": ".py",
   "mimetype": "text/x-python",
   "name": "python",
   "nbconvert_exporter": "python",
   "pygments_lexer": "ipython3",
   "version": "3.13.0"
  }
 },
 "nbformat": 4,
 "nbformat_minor": 5
}
