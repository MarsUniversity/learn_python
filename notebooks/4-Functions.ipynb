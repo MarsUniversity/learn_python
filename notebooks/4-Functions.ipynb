{
 "cells": [
  {
   "cell_type": "markdown",
   "id": "ac61c22d-b991-467c-b56f-3bb8c2fac737",
   "metadata": {},
   "source": [
    "# 3. Functions\n",
    "\n",
    "So we talked about the basic parts of the python language, here is how to add more features to the python language.\n",
    "\n",
    "- Libraries\n",
    "- Functions\n",
    "- Classes or OOP\n",
    "\n",
    "## Objectives\n",
    "\n",
    "- Understand\n",
    "  - Libraries\n",
    "  - Functions\n",
    "\n",
    "## References\n",
    "\n",
    "- [Automate the Boring Stuff with Python](https://automatetheboringstuff.com)\n",
    "    - Read: Chapter 3 Functions"
   ]
  },
  {
   "cell_type": "markdown",
   "id": "dabd3452-44c1-4069-8fc2-390eaa2cb846",
   "metadata": {},
   "source": [
    "# Functions\n",
    "\n",
    "In programming you find yourself re-writing the same code over and over. Functions allow you to break your code up into re-usable blocks of code."
   ]
  },
  {
   "cell_type": "code",
   "execution_count": 39,
   "id": "acfc126c-062b-4561-8ad5-f49415c77f0f",
   "metadata": {},
   "outputs": [
    {
     "data": {
      "text/plain": [
       "4.0"
      ]
     },
     "execution_count": 39,
     "metadata": {},
     "output_type": "execute_result"
    }
   ],
   "source": [
    "def my_cool_function(x):\n",
    "    \"\"\"\n",
    "    This is my cool function which takes an argument x\n",
    "    and returns a value\n",
    "    \"\"\"\n",
    "    return 2*x/3\n",
    "\n",
    "my_cool_function(6)  # 2*6/3 = 4.0"
   ]
  },
  {
   "cell_type": "code",
   "execution_count": 2,
   "id": "48856acc-df0d-486d-8769-e8922234b43e",
   "metadata": {},
   "outputs": [
    {
     "name": "stdout",
     "output_type": "stream",
     "text": [
      "Hello Bob\n",
      "Hello Harley\n",
      "Hello Misty\n"
     ]
    }
   ],
   "source": [
    "def sayHello(name):\n",
    "    # check to make sure it is a string, if\n",
    "    # not, then do nothing\n",
    "    if not isinstance(name, str):\n",
    "        return\n",
    "        \n",
    "    print(f\"Hello {name}\")\n",
    "\n",
    "sayHello(\"Bob\")\n",
    "sayHello(\"Harley\")\n",
    "sayHello(\"Misty\")\n",
    "sayHello(12)"
   ]
  },
  {
   "cell_type": "code",
   "execution_count": 3,
   "id": "ef6d144b-49eb-4ab1-92a2-5643ee68730f",
   "metadata": {},
   "outputs": [
    {
     "name": "stdout",
     "output_type": "stream",
     "text": [
      "Hello 12\n"
     ]
    }
   ],
   "source": [
    "# here is another way to do this IF you ALWAYS\n",
    "# want to print hello\n",
    "def sayHello(name):\n",
    "    # check to make sure it is a string, if\n",
    "    # not, then make it a string\n",
    "    if not isinstance(name, str):\n",
    "        name = str(name)\n",
    "        \n",
    "    print(f\"Hello {name}\")\n",
    "\n",
    "sayHello(12)"
   ]
  },
  {
   "cell_type": "code",
   "execution_count": null,
   "id": "5cea1a40-e2b1-4078-a791-3dbc598134ba",
   "metadata": {},
   "outputs": [],
   "source": []
  }
 ],
 "metadata": {
  "kernelspec": {
   "display_name": "Python 3 (ipykernel)",
   "language": "python",
   "name": "python3"
  },
  "language_info": {
   "codemirror_mode": {
    "name": "ipython",
    "version": 3
   },
   "file_extension": ".py",
   "mimetype": "text/x-python",
   "name": "python",
   "nbconvert_exporter": "python",
   "pygments_lexer": "ipython3",
   "version": "3.11.6"
  }
 },
 "nbformat": 4,
 "nbformat_minor": 5
}
