{
 "cells": [
  {
   "cell_type": "markdown",
   "metadata": {},
   "source": [
    "# 2. Flow Control\n",
    "\n",
    "Kevin J. Walchko\n",
    "\n",
    "----\n",
    "\n",
    "Here we will use python as our programming language. Python, like any other language, is really vast and complex. We will just cover the basic syntax we need first.\n",
    "\n",
    "## Objectives\n",
    "\n",
    "- Understand\n",
    "  - for/while loops\n",
    "  - if/elif/else\n",
    "\n",
    "## References\n",
    "\n",
    "- [Automate the Boring Stuff with Python](https://automatetheboringstuff.com)\n",
    "    - Read: Chapter 2 Flow Control"
   ]
  },
  {
   "cell_type": "markdown",
   "metadata": {},
   "source": [
    "# Flow Control\n",
    "\n",
    "A program in python runs from the first line to the last line, but you usually want to change the path it takes as things change. Controlling how the program runs is called flow control.\n",
    "\n",
    "- **For Loops:** A for loop executes a block of code a fixed number of times, typically iterating over a range of values. It typically consists of an initialization statement, a condition for termination, and an increment or decrement statement.\n",
    "\n",
    "- **While Loops:** A while loop repeatedly executes a block of code as long as a specified condition remains `True`. It evaluates the condition before each iteration, and if the condition becomes `False`, the loop is terminated.\n",
    "\n",
    "## Logic Operators\n",
    "\n",
    "Flow control is generally done via some math operator or boolean logic operator.\n",
    "\n",
    "![](./pics/logic.png)\n",
    "\n",
    "![](./pics/logic2.png)\n",
    "\n",
    "## For Loop\n",
    "\n",
    "```python\n",
    "for i in [1,2,3]:\n",
    "    print(i)  # i will be 1, 2, and then 3\n",
    "```"
   ]
  },
  {
   "cell_type": "code",
   "execution_count": 18,
   "metadata": {},
   "outputs": [
    {
     "data": {
      "text/plain": [
       "range(3, 10)"
      ]
     },
     "execution_count": 18,
     "metadata": {},
     "output_type": "execute_result"
    }
   ],
   "source": [
    "# range(start, stop, step)  # this only works for integer values\n",
    "range(3,10)  # jupyter cell will always print the last thing"
   ]
  },
  {
   "cell_type": "code",
   "execution_count": 19,
   "metadata": {},
   "outputs": [
    {
     "name": "stdout",
     "output_type": "stream",
     "text": [
      "0\n",
      "1\n",
      "2\n",
      "3\n",
      "4\n"
     ]
    }
   ],
   "source": [
    "# iterates from start (default 0) to less than the highest number\n",
    "for i in range(5):\n",
    "    print(i)"
   ]
  },
  {
   "cell_type": "code",
   "execution_count": 20,
   "metadata": {},
   "outputs": [
    {
     "name": "stdout",
     "output_type": "stream",
     "text": [
      "bob one-liner: [3, 5, 7, 9]\n"
     ]
    }
   ],
   "source": [
    "# you can also create simple arrays like this:\n",
    "bob = [2*x+3 for x in range(4)]\n",
    "print('bob one-liner:', bob)"
   ]
  },
  {
   "cell_type": "code",
   "execution_count": 21,
   "metadata": {},
   "outputs": [
    {
     "name": "stdout",
     "output_type": "stream",
     "text": [
      "2\n",
      "4\n",
      "6\n"
     ]
    }
   ],
   "source": [
    "for i in range(2,8,2):  # start=2, stop<8, step=2, so notice the last value is 6 NOT 8\n",
    "    print(i)"
   ]
  },
  {
   "cell_type": "code",
   "execution_count": 22,
   "metadata": {},
   "outputs": [
    {
     "name": "stdout",
     "output_type": "stream",
     "text": [
      "d\n",
      "e\n",
      "f\n",
      "c\n"
     ]
    }
   ],
   "source": [
    "# I have a list of things ... maybe images or something else.\n",
    "# A for loop can iterate through the list. Here, each time \n",
    "# through, i is set to the next letter in my array 'dfec'\n",
    "things = ['d', 'e', 'f', 'c']\n",
    "for ltr in things:\n",
    "    print(ltr)"
   ]
  },
  {
   "cell_type": "code",
   "execution_count": 23,
   "metadata": {},
   "outputs": [
    {
     "name": "stdout",
     "output_type": "stream",
     "text": [
      "things[0]: d\n",
      "things[1]: e\n",
      "things[2]: f\n",
      "things[3]: 3.14\n"
     ]
    }
   ],
   "source": [
    "# enumerate()\n",
    "# sometimes you need a counter in your for loop, use enumerate\n",
    "things = ['d', 'e', 'f', 3.14]  # LOOK! the last element is a float not a letter ... that's OK\n",
    "for i, ltr in enumerate(things):\n",
    "    print('things[{}]: {}'.format(i, ltr))"
   ]
  },
  {
   "cell_type": "code",
   "execution_count": 24,
   "metadata": {},
   "outputs": [
    {
     "name": "stdout",
     "output_type": "stream",
     "text": [
      "Bob is 10 yrs old and totally GOOD\n",
      "Tom is 20 yrs old and totally EVIL\n",
      "Sally is 15 yrs old and totally NICE\n"
     ]
    }
   ],
   "source": [
    "# zip()\n",
    "# somethimes you have a couple arrays that you want to work on at the same time, use zip\n",
    "# to combine them together\n",
    "# NOTE: all arrays have to have the SAME LENGTH\n",
    "a = ['bob', 'tom', 'sally']\n",
    "b = ['good', 'evil', 'nice']\n",
    "c = [10, 20, 15]\n",
    "\n",
    "for name, age, status in zip(a, c, b):  # notice I mixed up a, b, c\n",
    "    status = status.upper()\n",
    "    name = name[0].upper() + name[1:]  # strings are immutable\n",
    "    print('{} is {} yrs old and totally {}'.format(name, age, status))"
   ]
  },
  {
   "cell_type": "markdown",
   "metadata": {},
   "source": [
    "## if / elif / else \n",
    "\n",
    "This control checks if a statement is `True` and if it is, it runs that code. Note, this ends when the first `True` statement is found.\n",
    "\n",
    "```python\n",
    "if statement_1:\n",
    "    # do something\n",
    "elif statement_2:\n",
    "    # do a different thing\n",
    "elif statement_3:\n",
    "    # this can continue on forever\n",
    "else:\n",
    "    # this is optional, you don't have to have\n",
    "    # this, but if no other statement was True\n",
    "    # then this one will be run no matter what\n",
    "```"
   ]
  },
  {
   "cell_type": "code",
   "execution_count": 32,
   "metadata": {},
   "outputs": [
    {
     "name": "stdout",
     "output_type": "stream",
     "text": [
      "x == 2\n"
     ]
    }
   ],
   "source": [
    "# classic if/then statements work the same as other languages.\n",
    "x = 2\n",
    "\n",
    "if x == 1:\n",
    "    print('x == 1')\n",
    "elif x == 2:\n",
    "    print('x == 2')\n",
    "elif x > 3:\n",
    "    print(\"x > 3\")\n",
    "else:\n",
    "    print('this is the default if all else fails')"
   ]
  },
  {
   "cell_type": "markdown",
   "metadata": {},
   "source": [
    "## While\n",
    "\n",
    "A while loop runs until the statment is `False`.\n",
    "\n",
    "```python\n",
    "while statement:\n",
    "    # do something\n",
    "```"
   ]
  },
  {
   "cell_type": "code",
   "execution_count": 33,
   "metadata": {},
   "outputs": [
    {
     "name": "stdout",
     "output_type": "stream",
     "text": [
      "3\n",
      "2\n",
      "1\n",
      "\n",
      "Another way to do the same thing\n",
      "\n",
      "3\n",
      "2\n",
      "1\n"
     ]
    }
   ],
   "source": [
    "x = 3\n",
    "while True:  # while loop runs while value is True\n",
    "    if not x:  # I will enter this if statement when x = False or 0\n",
    "        break  # breaks me out of a loop\n",
    "    else:\n",
    "        print(x)\n",
    "        x -= 1\n",
    "\n",
    "print(\"\\nAnother way to do the same thing\\n\")\n",
    "\n",
    "# this is simplier than above, but is the same\n",
    "x = 3\n",
    "while x > 0:\n",
    "    print(x)\n",
    "    x -= 1"
   ]
  },
  {
   "cell_type": "markdown",
   "metadata": {},
   "source": [
    "# Questions\n",
    "\n",
    "1. Write a `for` loop that prints each element of a `list` as: `[index]: element` \n",
    "2. Write a `for` loop that prints each key / value pair of a dictionary: `key: value`"
   ]
  },
  {
   "cell_type": "code",
   "execution_count": null,
   "metadata": {},
   "outputs": [],
   "source": []
  }
 ],
 "metadata": {
  "kernelspec": {
   "display_name": "Python 3 (ipykernel)",
   "language": "python",
   "name": "python3"
  },
  "language_info": {
   "codemirror_mode": {
    "name": "ipython",
    "version": 3
   },
   "file_extension": ".py",
   "mimetype": "text/x-python",
   "name": "python",
   "nbconvert_exporter": "python",
   "pygments_lexer": "ipython3",
   "version": "3.13.0"
  }
 },
 "nbformat": 4,
 "nbformat_minor": 4
}
