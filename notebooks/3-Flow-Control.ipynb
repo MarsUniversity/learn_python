{
 "cells": [
  {
   "cell_type": "markdown",
   "metadata": {},
   "source": [
    "# 2. Flow Control\n",
    "\n",
    "Kevin J. Walchko\n",
    "\n",
    "----\n",
    "\n",
    "Here we will use python as our programming language. Python, like any other language, is really vast and complex. We will just cover the basic syntax we need first.\n",
    "\n",
    "## Objectives\n",
    "\n",
    "- Understand\n",
    "  - for/while loops\n",
    "  - if/elif/else\n",
    "\n",
    "## References\n",
    "\n",
    "- [Automate the Boring Stuff with Python](https://automatetheboringstuff.com)\n",
    "    - Read: Chapter 2 Flow Control"
   ]
  },
  {
   "cell_type": "markdown",
   "metadata": {},
   "source": [
    "## Lists\n",
    "\n",
    "Lists store information one after the other, from left to right, and can be accessed by an index number.\n",
    "\n",
    "```python\n",
    "bob = [11,12,13]\n",
    "bob[0] # this is 11\n",
    "bob[1] # this is 12\n",
    "bob[2] # this is 13\n",
    "```"
   ]
  },
  {
   "cell_type": "code",
   "execution_count": 10,
   "metadata": {},
   "outputs": [
    {
     "name": "stdout",
     "output_type": "stream",
     "text": [
      "bob list [1, 2, 'tom', 4, 5]\n",
      "bob list[3]: 4\n",
      "bob one-liner version 2: [1, 1, 1, 1, 1]\n",
      "len(bob) = 5\n"
     ]
    }
   ],
   "source": [
    "# arrays or lists are mutable (changable)\n",
    "# the first element is 0 like all good programming languages\n",
    "bob = [1,2,3,4,5]\n",
    "bob[2] = 'tom'\n",
    "print('bob list', bob)\n",
    "print('bob list[3]:', bob[3])  # remember it is zero indexed\n",
    "\n",
    "# or ... tuple will do this too\n",
    "bob = [1]*5\n",
    "print('bob one-liner version 2:', bob)\n",
    "print('len(bob) =', len(bob))"
   ]
  },
  {
   "cell_type": "markdown",
   "metadata": {},
   "source": [
    "## Tuples\n",
    "\n",
    "Tuples are like a `list`, but once you make them, you cannot change their values. In programming terms this is called immutable."
   ]
  },
  {
   "cell_type": "code",
   "execution_count": 14,
   "metadata": {},
   "outputs": [
    {
     "name": "stdout",
     "output_type": "stream",
     "text": [
      "bob tuple (1, 2, 3, 4)\n",
      "bob tuple*3 (1, 2, 3, 4, 1, 2, 3, 4, 1, 2, 3, 4)\n",
      "len(bob) = 4\n"
     ]
    }
   ],
   "source": [
    "# tuples are immutable (not changable which makes them faster/smaller)\n",
    "bob = (1,2,3,4)\n",
    "print('bob tuple', bob)\n",
    "print('bob tuple*3', bob*3)  # repeats tuple 3x\n",
    "print('len(bob) =', len(bob))"
   ]
  },
  {
   "cell_type": "code",
   "execution_count": 15,
   "metadata": {},
   "outputs": [
    {
     "ename": "TypeError",
     "evalue": "'tuple' object does not support item assignment",
     "output_type": "error",
     "traceback": [
      "\u001b[0;31m---------------------------------------------------------------------------\u001b[0m",
      "\u001b[0;31mTypeError\u001b[0m                                 Traceback (most recent call last)",
      "Cell \u001b[0;32mIn[15], line 2\u001b[0m\n\u001b[1;32m      1\u001b[0m \u001b[38;5;66;03m# since tuples are immutable, this will throw an error\u001b[39;00m\n\u001b[0;32m----> 2\u001b[0m \u001b[43mbob\u001b[49m\u001b[43m[\u001b[49m\u001b[38;5;241;43m1\u001b[39;49m\u001b[43m]\u001b[49m \u001b[38;5;241m=\u001b[39m \u001b[38;5;124m'\u001b[39m\u001b[38;5;124mtom\u001b[39m\u001b[38;5;124m'\u001b[39m\n",
      "\u001b[0;31mTypeError\u001b[0m: 'tuple' object does not support item assignment"
     ]
    }
   ],
   "source": [
    "# since tuples are immutable, this will throw an error\n",
    "bob[1] = 'tom'"
   ]
  },
  {
   "cell_type": "code",
   "execution_count": 17,
   "metadata": {},
   "outputs": [
    {
     "name": "stdout",
     "output_type": "stream",
     "text": [
      "4 5\n",
      "5 4\n"
     ]
    }
   ],
   "source": [
    "# this works for both lists and tuples\n",
    "# assign multiple variables at once\n",
    "bob = (4,5,)\n",
    "x,y = bob\n",
    "print(x,y)\n",
    "\n",
    "# wait, I changed by mind ... easy to swap\n",
    "x,y = y,x\n",
    "print(x,y)"
   ]
  },
  {
   "cell_type": "markdown",
   "metadata": {},
   "source": [
    "## Dictionaries\n",
    "\n",
    "Dictionaries store pairs of `key`, `value` pairs:\n",
    "\n",
    "```python\n",
    "my_dict = {\n",
    "    'a': 2, # get 2 using my_dict['a']\n",
    "    'b': 3,\n",
    "    'c': 4\n",
    "}\n",
    "```"
   ]
  },
  {
   "cell_type": "code",
   "execution_count": 16,
   "metadata": {},
   "outputs": [
    {
     "name": "stdout",
     "output_type": "stream",
     "text": [
      "bob[\"a\"]: 5\n",
      "{'a': 5, 'b': 6, 'c': 'this is a string!!'}\n",
      "len(bob) = 3\n",
      "bob.keys() = dict_keys(['a', 'b', 'c'])\n"
     ]
    }
   ],
   "source": [
    "# dictionary or hash tables\n",
    "# these store key, value pairs\n",
    "bob = {'a': 5, 'b': 6}\n",
    "print(f'bob[\"a\"]: {bob[\"a\"]}')\n",
    "\n",
    "# you can assign a new key/values pair\n",
    "bob['c'] = 'this is a string!!'\n",
    "print(bob)\n",
    "print('len(bob) =', len(bob))\n",
    "\n",
    "# you can also access what keys are in a dict\n",
    "print('bob.keys() =', bob.keys())"
   ]
  },
  {
   "cell_type": "markdown",
   "metadata": {},
   "source": [
    "## Strings\n",
    "\n",
    "You can think of a `string` as a `list` (or array) of letter/numbers/symbols and you can treat them as a `list`:"
   ]
  },
  {
   "cell_type": "code",
   "execution_count": 13,
   "metadata": {},
   "outputs": [
    {
     "name": "stdout",
     "output_type": "stream",
     "text": [
      "my crazy string: hello world\n",
      "formatting: 3.1234 6.67\n",
      "len(z) = 11\n"
     ]
    }
   ],
   "source": [
    "# strings\n",
    "z = 'hello world!!'\n",
    "z = 'hello' + ' world'  # concatinate or join them together\n",
    "z = 'hhhello world!@#$'[2:13]  # strings are just an array of letters\n",
    "print('my crazy string:', z)\n",
    "print('{}: {} {:.2f}'.format('formatting', 3.1234, 6.6666))\n",
    "print('len(z) =', len(z))"
   ]
  },
  {
   "cell_type": "markdown",
   "metadata": {},
   "source": [
    "# Flow Control\n",
    "\n",
    "A program in python runs from the first line to the last line, but you usually want to change the path it takes as things change. Controlling how the program runs is called flow control.\n",
    "\n",
    "- **For Loops:** A for loop executes a block of code a fixed number of times, typically iterating over a range of values. It typically consists of an initialization statement, a condition for termination, and an increment or decrement statement.\n",
    "\n",
    "- **While Loops:** A while loop repeatedly executes a block of code as long as a specified condition remains `True`. It evaluates the condition before each iteration, and if the condition becomes `False`, the loop is terminated.\n",
    "\n",
    "## Logic Operators\n",
    "\n",
    "Flow control is generally done via some math operator or boolean logic operator.\n",
    "\n",
    "![](logic.png)\n",
    "\n",
    "![](logic2.png)\n",
    "\n",
    "## For Loop\n",
    "\n",
    "```python\n",
    "for i in [1,2,3]:\n",
    "    print(i)  # i will be 1, 2, and then 3\n",
    "```"
   ]
  },
  {
   "cell_type": "code",
   "execution_count": 18,
   "metadata": {},
   "outputs": [
    {
     "data": {
      "text/plain": [
       "range(3, 10)"
      ]
     },
     "execution_count": 18,
     "metadata": {},
     "output_type": "execute_result"
    }
   ],
   "source": [
    "# range(start, stop, step)  # this only works for integer values\n",
    "range(3,10)  # jupyter cell will always print the last thing"
   ]
  },
  {
   "cell_type": "code",
   "execution_count": 19,
   "metadata": {},
   "outputs": [
    {
     "name": "stdout",
     "output_type": "stream",
     "text": [
      "0\n",
      "1\n",
      "2\n",
      "3\n",
      "4\n"
     ]
    }
   ],
   "source": [
    "# iterates from start (default 0) to less than the highest number\n",
    "for i in range(5):\n",
    "    print(i)"
   ]
  },
  {
   "cell_type": "code",
   "execution_count": 20,
   "metadata": {},
   "outputs": [
    {
     "name": "stdout",
     "output_type": "stream",
     "text": [
      "bob one-liner: [3, 5, 7, 9]\n"
     ]
    }
   ],
   "source": [
    "# you can also create simple arrays like this:\n",
    "bob = [2*x+3 for x in range(4)]\n",
    "print('bob one-liner:', bob)"
   ]
  },
  {
   "cell_type": "code",
   "execution_count": 21,
   "metadata": {},
   "outputs": [
    {
     "name": "stdout",
     "output_type": "stream",
     "text": [
      "2\n",
      "4\n",
      "6\n"
     ]
    }
   ],
   "source": [
    "for i in range(2,8,2):  # start=2, stop<8, step=2, so notice the last value is 6 NOT 8\n",
    "    print(i)"
   ]
  },
  {
   "cell_type": "code",
   "execution_count": 22,
   "metadata": {},
   "outputs": [
    {
     "name": "stdout",
     "output_type": "stream",
     "text": [
      "d\n",
      "e\n",
      "f\n",
      "c\n"
     ]
    }
   ],
   "source": [
    "# I have a list of things ... maybe images or something else.\n",
    "# A for loop can iterate through the list. Here, each time \n",
    "# through, i is set to the next letter in my array 'dfec'\n",
    "things = ['d', 'e', 'f', 'c']\n",
    "for ltr in things:\n",
    "    print(ltr)"
   ]
  },
  {
   "cell_type": "code",
   "execution_count": 23,
   "metadata": {},
   "outputs": [
    {
     "name": "stdout",
     "output_type": "stream",
     "text": [
      "things[0]: d\n",
      "things[1]: e\n",
      "things[2]: f\n",
      "things[3]: 3.14\n"
     ]
    }
   ],
   "source": [
    "# enumerate()\n",
    "# sometimes you need a counter in your for loop, use enumerate\n",
    "things = ['d', 'e', 'f', 3.14]  # LOOK! the last element is a float not a letter ... that's OK\n",
    "for i, ltr in enumerate(things):\n",
    "    print('things[{}]: {}'.format(i, ltr))"
   ]
  },
  {
   "cell_type": "code",
   "execution_count": 24,
   "metadata": {},
   "outputs": [
    {
     "name": "stdout",
     "output_type": "stream",
     "text": [
      "Bob is 10 yrs old and totally GOOD\n",
      "Tom is 20 yrs old and totally EVIL\n",
      "Sally is 15 yrs old and totally NICE\n"
     ]
    }
   ],
   "source": [
    "# zip()\n",
    "# somethimes you have a couple arrays that you want to work on at the same time, use zip\n",
    "# to combine them together\n",
    "# NOTE: all arrays have to have the SAME LENGTH\n",
    "a = ['bob', 'tom', 'sally']\n",
    "b = ['good', 'evil', 'nice']\n",
    "c = [10, 20, 15]\n",
    "\n",
    "for name, age, status in zip(a, c, b):  # notice I mixed up a, b, c\n",
    "    status = status.upper()\n",
    "    name = name[0].upper() + name[1:]  # strings are immutable\n",
    "    print('{} is {} yrs old and totally {}'.format(name, age, status))"
   ]
  },
  {
   "cell_type": "markdown",
   "metadata": {},
   "source": [
    "## if / elif / else \n",
    "\n",
    "This control checks if a statement is `True` and if it is, it runs that code. Note, this ends when the first `True` statement is found.\n",
    "\n",
    "```python\n",
    "if statement_1:\n",
    "    # do something\n",
    "elif statement_2:\n",
    "    # do a different thing\n",
    "elif statement_3:\n",
    "    # this can continue on forever\n",
    "else:\n",
    "    # this is optional, you don't have to have\n",
    "    # this, but if no other statement was True\n",
    "    # then this one will be run no matter what\n",
    "```"
   ]
  },
  {
   "cell_type": "code",
   "execution_count": 32,
   "metadata": {},
   "outputs": [
    {
     "name": "stdout",
     "output_type": "stream",
     "text": [
      "x == 2\n"
     ]
    }
   ],
   "source": [
    "# classic if/then statements work the same as other languages.\n",
    "x = 2\n",
    "\n",
    "if x == 1:\n",
    "    print('x == 1')\n",
    "elif x == 2:\n",
    "    print('x == 2')\n",
    "elif x > 3:\n",
    "    print(\"x > 3\")\n",
    "else:\n",
    "    print('this is the default if all else fails')"
   ]
  },
  {
   "cell_type": "markdown",
   "metadata": {},
   "source": [
    "## While\n",
    "\n",
    "A while loop runs until the statment is `False`.\n",
    "\n",
    "```python\n",
    "while statement:\n",
    "    # do something\n",
    "```"
   ]
  },
  {
   "cell_type": "code",
   "execution_count": 33,
   "metadata": {},
   "outputs": [
    {
     "name": "stdout",
     "output_type": "stream",
     "text": [
      "3\n",
      "2\n",
      "1\n",
      "\n",
      "Another way to do the same thing\n",
      "\n",
      "3\n",
      "2\n",
      "1\n"
     ]
    }
   ],
   "source": [
    "x = 3\n",
    "while True:  # while loop runs while value is True\n",
    "    if not x:  # I will enter this if statement when x = False or 0\n",
    "        break  # breaks me out of a loop\n",
    "    else:\n",
    "        print(x)\n",
    "        x -= 1\n",
    "\n",
    "print(\"\\nAnother way to do the same thing\\n\")\n",
    "\n",
    "# this is simplier than above, but is the same\n",
    "x = 3\n",
    "while x > 0:\n",
    "    print(x)\n",
    "    x -= 1"
   ]
  },
  {
   "cell_type": "markdown",
   "metadata": {},
   "source": [
    "# Questions\n",
    "\n",
    "1. What is the difference between `/` and `//`?\n",
    "1. What is a `list` and how do you add new values and retrieve (or access) values in it?\n",
    "1. What is a `dict` and how do you add new values and retrieve (or access) values in it?\n",
    "1. On one line, how would I do a for loop that returns a new array of : [2,4,8,16]?"
   ]
  },
  {
   "cell_type": "code",
   "execution_count": null,
   "metadata": {},
   "outputs": [],
   "source": []
  }
 ],
 "metadata": {
  "kernelspec": {
   "display_name": "Python 3 (ipykernel)",
   "language": "python",
   "name": "python3"
  },
  "language_info": {
   "codemirror_mode": {
    "name": "ipython",
    "version": 3
   },
   "file_extension": ".py",
   "mimetype": "text/x-python",
   "name": "python",
   "nbconvert_exporter": "python",
   "pygments_lexer": "ipython3",
   "version": "3.11.6"
  }
 },
 "nbformat": 4,
 "nbformat_minor": 4
}
