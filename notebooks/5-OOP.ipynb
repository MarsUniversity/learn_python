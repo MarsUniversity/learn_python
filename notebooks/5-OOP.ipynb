{
 "cells": [
  {
   "cell_type": "markdown",
   "id": "ac61c22d-b991-467c-b56f-3bb8c2fac737",
   "metadata": {},
   "source": [
    "# x. Object Oriented Programming (OOP)\n",
    "\n",
    "\n",
    "\n",
    "## Objectives\n",
    "\n",
    "- Understand `class` in python to do OOP\n",
    "\n",
    "## References\n",
    "\n",
    "- [Python classes/objects](https://www.tutorialspoint.com/python/python_classes_objects.htm)"
   ]
  },
  {
   "cell_type": "markdown",
   "id": "da8f30e0-4e6c-46ba-8de8-4083542c4220",
   "metadata": {},
   "source": [
    "# Object Oriented Programming\n",
    "\n",
    "Often you want to store data together like you would in a `list` or `dict` but you want to also tie custom functions that only work on that data. A `class` is a way to do that."
   ]
  },
  {
   "cell_type": "code",
   "execution_count": 7,
   "id": "9c464b29-6dfe-462f-9c6f-bba34c69c1d9",
   "metadata": {},
   "outputs": [
    {
     "name": "stdout",
     "output_type": "stream",
     "text": [
      "> Constructor called bob\n",
      "> called function: 3.14\n",
      "> Constructor called 28\n",
      "> called function: tom\n",
      "> Constructor called bob\n",
      "> Constructor called bob\n",
      "> Constructor called bob\n"
     ]
    }
   ],
   "source": [
    "class ClassName:\n",
    "    \"\"\"\n",
    "    So this is my cool class\n",
    "    \"\"\"\n",
    "    def __init__(self, x):\n",
    "        \"\"\"\n",
    "        This is called a constructor in OOP. When I make an object\n",
    "        this function is called.\n",
    "        self = contains all of the objects values\n",
    "        x = an argument to pass something into the constructor\n",
    "        \"\"\"\n",
    "        self.x = x\n",
    "        print('> Constructor called', x)\n",
    "        \n",
    "    def my_cool_function(self, y):\n",
    "        \"\"\"\n",
    "        This is called a method (function) that works on\n",
    "        the class. It always needs self to access class\n",
    "        values, but can also have as many arguments as you want.\n",
    "        I only have 1 arg called y\"\"\"\n",
    "        self.x = y\n",
    "        print(f'> called function: {self.x}')\n",
    "        \n",
    "    def __del__(self):\n",
    "        \"\"\"\n",
    "        Destructor. This is called when the object goes out of scope\n",
    "        and is destoryed. It take NO arguments other than self.\n",
    "        \n",
    "        Note, this is hard to call in jupyter, because it will probably\n",
    "        get called with the program (notebook) ends (shutsdown)\n",
    "        \"\"\"\n",
    "        pass\n",
    "\n",
    "a = ClassName('bob')\n",
    "a.my_cool_function(3.14)\n",
    "\n",
    "b = ClassName(28)\n",
    "b.my_cool_function('tom')\n",
    "\n",
    "for i in range(3):\n",
    "    a = ClassName('bob')"
   ]
  },
  {
   "cell_type": "markdown",
   "id": "b0b8e174-2d7f-4676-ae39-27628ca77545",
   "metadata": {},
   "source": [
    "There are tons of things you can do with objects. Here is one example. Say we have a ball class and for some reason we want to be able to add balls together."
   ]
  },
  {
   "cell_type": "code",
   "execution_count": 14,
   "id": "ef65d287-4814-42fb-9784-65297bdc8b33",
   "metadata": {},
   "outputs": [
    {
     "name": "stdout",
     "output_type": "stream",
     "text": [
      "Ball red, radius: 3.0\n",
      "Ball green, radius: 4.0\n",
      "Ball blue, radius: 5.0\n",
      "total size: 12\n",
      "Add method: Ball gray, radius: 12.0\n"
     ]
    }
   ],
   "source": [
    "class Ball:\n",
    "    def __init__(self, color, radius):\n",
    "        \"\"\"\n",
    "        this ball always has this color and raduis below\n",
    "        \"\"\"\n",
    "        self.radius = radius\n",
    "        self.color = color\n",
    "        \n",
    "    def __str__(self):\n",
    "        \"\"\"\n",
    "        When something tries to turn this object into a string,\n",
    "        this function gets called\n",
    "        \"\"\"\n",
    "        s = f'Ball {self.color}, radius: {self.radius:.1f}'\n",
    "        return s\n",
    "    \n",
    "    def __add__(self, a):\n",
    "        \"\"\"Add two balls together\"\"\"\n",
    "        c = Ball('gray', a.radius + self.radius)\n",
    "        return c\n",
    "\n",
    "r = Ball('red', 3)\n",
    "g = Ball('green', radius=4)\n",
    "b = Ball(radius=5, color='blue')\n",
    "\n",
    "print(r)\n",
    "print(g)\n",
    "print(b)\n",
    "print('total size:', r.radius+b.radius+g.radius)\n",
    "print('Add method:', r+b+g)"
   ]
  },
  {
   "cell_type": "code",
   "execution_count": 17,
   "id": "7f56d234-1a01-40e6-95f0-929e15893fcc",
   "metadata": {},
   "outputs": [
    {
     "name": "stdout",
     "output_type": "stream",
     "text": [
      "Help on Ball in module __main__ object:\n",
      "\n",
      "class Ball(builtins.object)\n",
      " |  Ball(color, radius)\n",
      " |  \n",
      " |  Methods defined here:\n",
      " |  \n",
      " |  __add__(self, a)\n",
      " |      Add two balls together\n",
      " |  \n",
      " |  __init__(self, color, radius)\n",
      " |      this ball always has this color and raduis below\n",
      " |  \n",
      " |  __str__(self)\n",
      " |      When something tries to turn this object into a string,\n",
      " |      this function gets called\n",
      " |  \n",
      " |  ----------------------------------------------------------------------\n",
      " |  Data descriptors defined here:\n",
      " |  \n",
      " |  __dict__\n",
      " |      dictionary for instance variables (if defined)\n",
      " |  \n",
      " |  __weakref__\n",
      " |      list of weak references to the object (if defined)\n",
      "\n"
     ]
    }
   ],
   "source": [
    "# let's look at what the red ball has for help documentation\n",
    "help(r)"
   ]
  },
  {
   "cell_type": "code",
   "execution_count": 18,
   "id": "03e082b7-374a-407b-b1d6-56a91b643b06",
   "metadata": {},
   "outputs": [
    {
     "data": {
      "text/plain": [
       "['__add__',\n",
       " '__class__',\n",
       " '__delattr__',\n",
       " '__dict__',\n",
       " '__dir__',\n",
       " '__doc__',\n",
       " '__eq__',\n",
       " '__format__',\n",
       " '__ge__',\n",
       " '__getattribute__',\n",
       " '__getstate__',\n",
       " '__gt__',\n",
       " '__hash__',\n",
       " '__init__',\n",
       " '__init_subclass__',\n",
       " '__le__',\n",
       " '__lt__',\n",
       " '__module__',\n",
       " '__ne__',\n",
       " '__new__',\n",
       " '__reduce__',\n",
       " '__reduce_ex__',\n",
       " '__repr__',\n",
       " '__setattr__',\n",
       " '__sizeof__',\n",
       " '__str__',\n",
       " '__subclasshook__',\n",
       " '__weakref__',\n",
       " 'color',\n",
       " 'radius']"
      ]
     },
     "execution_count": 18,
     "metadata": {},
     "output_type": "execute_result"
    }
   ],
   "source": [
    "# here we can look at what the red ball has in it\n",
    "dir(r)"
   ]
  },
  {
   "cell_type": "markdown",
   "id": "d541fd1a-80d8-43de-92fd-859df2075177",
   "metadata": {},
   "source": [
    "Now you can have classes with functions that make intuitive sense! If I want to calculate the area of a shape, call function `area()`. I don't need a function `areaCircle()` and `areaSquare()`. \n",
    "\n",
    "```python\n",
    "from math import pi\n",
    "\n",
    "class Circle(object):\n",
    "    def __init__(self, radius):\n",
    "        self.radius = radius\n",
    "    def area(self):\n",
    "        return pi*self.radius**2\n",
    "        \n",
    "class Square(object):\n",
    "    def __init__(self, length, width):\n",
    "        self.length = length\n",
    "        self.width = width\n",
    "    def area(self):\n",
    "        return length*width\n",
    "```"
   ]
  },
  {
   "cell_type": "markdown",
   "id": "e1cd8aef-5eaf-4dad-83a4-23d3cb68b683",
   "metadata": {},
   "source": [
    "# Questions\n",
    "\n",
    "1. Write a function that takes a width, height, and depth and return the volume.\n",
    "2. Write a class for a triagle.\n",
    "    - Add a function to it that calculate the area of the triangle\n",
    "    - Add a function "
   ]
  }
 ],
 "metadata": {
  "kernelspec": {
   "display_name": "Python 3 (ipykernel)",
   "language": "python",
   "name": "python3"
  },
  "language_info": {
   "codemirror_mode": {
    "name": "ipython",
    "version": 3
   },
   "file_extension": ".py",
   "mimetype": "text/x-python",
   "name": "python",
   "nbconvert_exporter": "python",
   "pygments_lexer": "ipython3",
   "version": "3.11.6"
  }
 },
 "nbformat": 4,
 "nbformat_minor": 5
}
